{
 "cells": [
  {
   "cell_type": "markdown",
   "metadata": {
    "slideshow": {
     "slide_type": "slide"
    }
   },
   "source": [
    "# Cython\n",
    "Simon Funke\n",
    "\n",
    "Date: **Sep 28, 2016**"
   ]
  },
  {
   "cell_type": "markdown",
   "metadata": {
    "slideshow": {
     "slide_type": "subslide"
    }
   },
   "source": [
    "## Contents\n",
    "\n",
    "* Cython introduction\n",
    "* An example\n",
    "* Cython and NumPy\n",
    "* Summary"
   ]
  },
  {
   "cell_type": "markdown",
   "metadata": {
    "slideshow": {
     "slide_type": "subslide"
    }
   },
   "source": [
    "##  Cython is a **superset** of Python\n",
    "\n",
    "* Cython is a **superset** of Python, with additional functionality   for defining C types and calling C functions\n",
    "* Cython generates C wrapper code, which is compiled into a Python   extension module\n",
    "* Major advantage: enables incremental code optimization"
   ]
  },
  {
   "cell_type": "markdown",
   "metadata": {
    "slideshow": {
     "slide_type": "slide"
    }
   },
   "source": [
    "## `cdef`  is used to declare C variables"
   ]
  },
  {
   "cell_type": "markdown",
   "metadata": {
    "collapsed": false
   },
   "source": [
    "```cython\n",
    "cdef int i, j, k\n",
    "cdef float f, g[42], *h\n",
    "```"
   ]
  },
  {
   "cell_type": "markdown",
   "metadata": {
    "slideshow": {
     "slide_type": "subslide"
    }
   },
   "source": [
    "## Cython function definitions"
   ]
  },
  {
   "cell_type": "markdown",
   "metadata": {},
   "source": [
    "There are three kinds of Cython function definitions: `def`, `cdef` and `cpdef`:"
   ]
  },
  {
   "cell_type": "markdown",
   "metadata": {
    "collapsed": false
   },
   "source": [
    "```cython\n",
    "# Python function.\n",
    "def foo(int i, char *s):\n",
    "    \n",
    "# C function. Not visible to Python code that imports the module \n",
    "cdef int eggs(int i, float f):  \n",
    "\n",
    "# \"Hybrid\". Generates both Python and C functions.\n",
    "cpdef double foo_2(int i, float f):\n",
    "\n",
    "```"
   ]
  },
  {
   "cell_type": "markdown",
   "metadata": {},
   "source": [
    "**Note**: Function arguments and return types may be declared. "
   ]
  },
  {
   "cell_type": "markdown",
   "metadata": {
    "slideshow": {
     "slide_type": "subslide"
    }
   },
   "source": [
    "## Cython optimises based on type definitions  \n",
    "\n",
    "* If no type is specified for a variable, parameter or return type, it defaults to a Python object\n",
    "* The standard Python for-loop is used in Cython:"
   ]
  },
  {
   "cell_type": "markdown",
   "metadata": {
    "collapsed": false
   },
   "source": [
    "```cython\n",
    "for i in range(n):\n",
    "   ...\n",
    "```   "
   ]
  },
  {
   "cell_type": "markdown",
   "metadata": {},
   "source": [
    "* If `i` is declared as an integer (with `cdef int i`), this will be optimized into a standard C loop."
   ]
  },
  {
   "cell_type": "markdown",
   "metadata": {
    "slideshow": {
     "slide_type": "subslide"
    }
   },
   "source": [
    "## A Cython example\n",
    "\n",
    "* Approximate the integral of a general function `f(x)`\n",
    "   <center>![xkcd](figs/num_itg.png \"Integral\")Integral of $f(x) = sin(x^2)$</center>\n",
    "\n",
    "* Numerical integration: accuracy increases with number of intervals\n",
    "\n",
    "* Speed is not a problem in 1D, but may be critical in 3D"
   ]
  },
  {
   "cell_type": "markdown",
   "metadata": {
    "slideshow": {
     "slide_type": "subslide"
    }
   },
   "source": [
    "## Cython example: Standard Python\n",
    "\n",
    "Python implementation (not optimized) of the integration:"
   ]
  },
  {
   "cell_type": "code",
   "execution_count": 4,
   "metadata": {
    "collapsed": false
   },
   "outputs": [],
   "source": [
    "from math import sin\n",
    "\n",
    "def f(x):\n",
    "    return sin(x**2)\n",
    "\n",
    "def integrate_f(a, b, N):\n",
    "    s = 0\n",
    "    dx = (b-a)/N\n",
    "    for i in xrange(N):\n",
    "        s += f(a+i*dx)\n",
    "    return s * dx"
   ]
  },
  {
   "cell_type": "markdown",
   "metadata": {
    "slideshow": {
     "slide_type": "fragment"
    }
   },
   "source": [
    "Integration takes around 3.5 seconds with `N=1000000`."
   ]
  },
  {
   "cell_type": "markdown",
   "metadata": {
    "slideshow": {
     "slide_type": "subslide"
    }
   },
   "source": [
    "## Cython example: Compilation\n",
    "\n",
    "Our first Cython file `integral.pyx` is identical to the Python file\n",
    "(Python code is legal Cython code)."
   ]
  },
  {
   "cell_type": "markdown",
   "metadata": {
    "slideshow": {
     "slide_type": "subslide"
    }
   },
   "source": [
    "Compile with"
   ]
  },
  {
   "cell_type": "markdown",
   "metadata": {
    "collapsed": false
   },
   "source": [
    "```bash\n",
    "cython integral.pyx\n",
    "gcc -fPIC $(pkg-config --cflags --libs python3) integral.c \n",
    "gcc -shared -o integral0.so integral.o\n",
    "```"
   ]
  },
  {
   "cell_type": "markdown",
   "metadata": {
    "slideshow": {
     "slide_type": "subslide"
    }
   },
   "source": [
    "## Cython example: Compilation with distutils"
   ]
  },
  {
   "cell_type": "markdown",
   "metadata": {},
   "source": [
    "Compiling with `distutils` is easier. \n",
    "\n",
    "Make a script `setup.py`:"
   ]
  },
  {
   "cell_type": "markdown",
   "metadata": {
    "collapsed": false
   },
   "source": [
    "```python\n",
    "from distutils.core import setup, Extension\n",
    "from Cython.Distutils import build_ext\n",
    "\n",
    "setup(\n",
    "    cmdclass={'build_ext': build_ext},\n",
    "    ext_modules=[Extension(\"integral\", [\"integral.pyx\"])]\n",
    ")\n",
    "```"
   ]
  },
  {
   "cell_type": "markdown",
   "metadata": {
    "slideshow": {
     "slide_type": "fragment"
    }
   },
   "source": [
    "and compile the module with"
   ]
  },
  {
   "cell_type": "markdown",
   "metadata": {
    "collapsed": false
   },
   "source": [
    "```bash\n",
    "python setup.py build_ext --inplace\n",
    "```"
   ]
  },
  {
   "cell_type": "markdown",
   "metadata": {
    "slideshow": {
     "slide_type": "subslide"
    }
   },
   "source": [
    "## Cython example: adding ctypes\n",
    "\n",
    "* Simply compiling the Cython file gives only minor speedup: loop runs in C, but makes numerous calls to the Python/C API\n",
    "* To have any real speedup, we need to introduce types:"
   ]
  },
  {
   "cell_type": "markdown",
   "metadata": {
    "collapsed": false
   },
   "source": [
    "```cython\n",
    "from libc.math cimport sin\n",
    "\n",
    "def f(x):            \n",
    "    return sin(x**2)   \n",
    "\n",
    "cpdef double integrate_f(double a, double  b, int N):\n",
    "    cdef double s = 0\n",
    "    cdef double dx = (b-a)/N\n",
    "    cdef int i\n",
    "    for i in range(N):  # compiles to C loop if i is declared as int\n",
    "        s += f(a+i*dx)\n",
    "    return s*dx\n",
    "```"
   ]
  },
  {
   "cell_type": "markdown",
   "metadata": {
    "slideshow": {
     "slide_type": "subslide"
    }
   },
   "source": [
    "## Cython example: final version\n",
    "\n",
    "* A fully typed version runs about 10 times faster:"
   ]
  },
  {
   "cell_type": "markdown",
   "metadata": {
    "collapsed": false
   },
   "source": [
    "```cython\n",
    "cdef extern from \"math.h\":\n",
    "     double sin(double arg)\n",
    "\n",
    "cdef double f(double x):\n",
    "    return sin(x**2)\n",
    "\n",
    "cpdef double integrate_f(double a, double b, int N):\n",
    "    cdef double s=0\n",
    "    cdef double dx = (b-a)/N\n",
    "    cdef int i\n",
    "    for i in range(N):\n",
    "        s += f(a+i*dx)\n",
    "    return s * dx\n",
    "```    "
   ]
  },
  {
   "cell_type": "markdown",
   "metadata": {
    "slideshow": {
     "slide_type": "fragment"
    }
   },
   "source": [
    "* Speedup can be much higher, but requires slightly more   complex example (loops within loops...)"
   ]
  },
  {
   "cell_type": "markdown",
   "metadata": {
    "slideshow": {
     "slide_type": "subslide"
    }
   },
   "source": [
    "## Cython example: Adding \"more C\" gives more speedup:\n",
    "\n",
    "<table border=\"1\">\n",
    "<thead>\n",
    "<tr><th align=\"center\">       Implementation        </th> <th align=\"center\">Timing (normalised) </th> </tr>\n",
    "</thead>\n",
    "<tbody>\n",
    "<tr> <td align=\"center\">       Pure Python        </td> <td align=\"center\">1.0 </td> </tr>\n",
    "<tr> <td align=\"center\">   Cython, no types              </td> <td align=\"center\">   0.74    </td> </tr>\n",
    "<tr> <td align=\"center\">   *double*                 </td> <td align=\"center\">   0.64    </td> </tr>\n",
    "<tr> <td align=\"center\">   *double* + *int*    </td> <td align=\"center\">   0.40    </td> </tr>\n",
    "<tr> <td align=\"center\">   Types and *math.h*       </td> <td align=\"center\">   0.12    </td> </tr>\n",
    "</tbody>\n",
    "</table>"
   ]
  },
  {
   "cell_type": "markdown",
   "metadata": {
    "slideshow": {
     "slide_type": "slide"
    }
   },
   "source": [
    "# Cython and numpy"
   ]
  },
  {
   "cell_type": "markdown",
   "metadata": {},
   "source": [
    "Cython works with numpy arrays as well."
   ]
  },
  {
   "cell_type": "markdown",
   "metadata": {
    "slideshow": {
     "slide_type": "subslide"
    }
   },
   "source": [
    "# Example: A pure Python version"
   ]
  },
  {
   "cell_type": "markdown",
   "metadata": {},
   "source": [
    "Apply `sin` to all numbers in an array:"
   ]
  },
  {
   "cell_type": "code",
   "execution_count": 2,
   "metadata": {
    "collapsed": true
   },
   "outputs": [],
   "source": [
    "import numpy\n",
    "from math import sin\n",
    "\n",
    "\n",
    "def apply_sin(a):\n",
    "    out = numpy.ndarray(len(a), dtype=numpy.double)\n",
    "\n",
    "    for i in range(len(a)):\n",
    "        out[i] = sin(a[i])\n",
    "\n",
    "    return out"
   ]
  },
  {
   "cell_type": "markdown",
   "metadata": {
    "slideshow": {
     "slide_type": "fragment"
    }
   },
   "source": [
    "Usage:"
   ]
  },
  {
   "cell_type": "code",
   "execution_count": 3,
   "metadata": {
    "collapsed": false
   },
   "outputs": [
    {
     "data": {
      "text/plain": [
       "array([  0.00000000e+00,   1.00000100e-05,   2.00000200e-05, ...,\n",
       "        -5.44004329e-01,  -5.44012720e-01,  -5.44021111e-01])"
      ]
     },
     "execution_count": 3,
     "metadata": {},
     "output_type": "execute_result"
    }
   ],
   "source": [
    "a = numpy.linspace(0, 10, 1e6, dtype=numpy.double)\n",
    "apply_sin(a)"
   ]
  },
  {
   "cell_type": "markdown",
   "metadata": {
    "slideshow": {
     "slide_type": "subslide"
    }
   },
   "source": [
    "# Declaring numpy data types"
   ]
  },
  {
   "cell_type": "markdown",
   "metadata": {
    "slideshow": {
     "slide_type": "fragment"
    }
   },
   "source": [
    "```cython\n",
    "cdef numpy.ndarray[numpy.double_t, ndim=1] out\n",
    "out = numpy.zeros(1000, dtype=numpy.double)\n",
    "```"
   ]
  },
  {
   "cell_type": "markdown",
   "metadata": {
    "slideshow": {
     "slide_type": "fragment"
    }
   },
   "source": [
    "Note that the definition used the `cython` version of the data type. "
   ]
  },
  {
   "cell_type": "markdown",
   "metadata": {
    "slideshow": {
     "slide_type": "fragment"
    }
   },
   "source": [
    "Translation table:"
   ]
  },
  {
   "cell_type": "markdown",
   "metadata": {},
   "source": [
    "| Numpy datatype| Cython datatype|\n",
    "| ------------- |:-------------:|\n",
    "| numpy.int8      | numpy.int8_t |\n",
    "| numpy.int16      | numpy.int16_t |\n",
    "| numpy.single      | numpy.single_t |\n",
    "| numpy.double      | numpy.double_t |\n",
    "| numpy.complex      | numpy.complex_t |\n"
   ]
  },
  {
   "cell_type": "markdown",
   "metadata": {
    "slideshow": {
     "slide_type": "subslide"
    }
   },
   "source": [
    "# Declaring numpy data types"
   ]
  },
  {
   "cell_type": "markdown",
   "metadata": {},
   "source": [
    "```cython\n",
    "import numpy\n",
    "cimport numpy\n",
    "\n",
    "cdef extern from \"math.h\":\n",
    "     double sin(double arg)\n",
    "\n",
    "cpdef numpy.ndarray[numpy.double_t, ndim=1] apply_sin(numpy.ndarray[numpy.double_t, ndim=1] a):\n",
    "    cdef int i\n",
    "\n",
    "    cdef numpy.ndarray[numpy.double_t, ndim=1] out\n",
    "    out = numpy.ndarray(len(a), dtype=numpy.double)\n",
    "\n",
    "    for i in range(len(a)):\n",
    "        out[i] = sin(a[i])\n",
    "\n",
    "    return out\n",
    "```"
   ]
  },
  {
   "cell_type": "markdown",
   "metadata": {
    "slideshow": {
     "slide_type": "subslide"
    }
   },
   "source": [
    "## Using the Cython-numpy module"
   ]
  },
  {
   "cell_type": "markdown",
   "metadata": {
    "slideshow": {
     "slide_type": "fragment"
    }
   },
   "source": [
    "Save this file as `apply.pyx`. Once compiled, the cython module can be used as:"
   ]
  },
  {
   "cell_type": "markdown",
   "metadata": {},
   "source": [
    "```python\n",
    "from apply import apply_sin\n",
    "\n",
    "a = numpy.linspace(0, 10, 1e6, dtype=numpy.double)\n",
    "out = apply.apply_sin(a)\n",
    "```"
   ]
  },
  {
   "cell_type": "markdown",
   "metadata": {
    "slideshow": {
     "slide_type": "subslide"
    }
   },
   "source": [
    "## Timings\n",
    "\n",
    "<table border=\"1\">\n",
    "<thead>\n",
    "<tr><th align=\"center\">       Implementation        </th> <th align=\"center\">Timing (normalised) </th> </tr>\n",
    "</thead>\n",
    "<tbody>\n",
    "<tr> <td align=\"center\">       Pure Python        </td> <td align=\"center\">1.0 </td> </tr>\n",
    "<tr> <td align=\"center\">   Cython                 </td> <td align=\"center\">   0.205    </td> </tr>\n",
    "<tr> <td align=\"center\">   Numpy               </td> <td align=\"center\">   0.202    </td> </tr>\n",
    "</tbody>\n",
    "</table>"
   ]
  },
  {
   "cell_type": "markdown",
   "metadata": {
    "slideshow": {
     "slide_type": "slide"
    }
   },
   "source": [
    "## Cython summary"
   ]
  },
  {
   "cell_type": "markdown",
   "metadata": {
    "slideshow": {
     "slide_type": "fragment"
    }
   },
   "source": [
    "* Cython pros and cons\n",
    "    * [+] Allows incremental optimization, easy to access C libraries, generated C code more compact and readable than swig, active developer community, advanced and flexible\n",
    "    * [-] Not as quick as Instant for speeding up a single loop, less       suitable than Swig for wrapping large libraries to Python modules, fully optimized code not as readable as Python\n",
    "* Should be considered (maybe as a first choice?) for mixing Python with C"
   ]
  },
  {
   "cell_type": "markdown",
   "metadata": {
    "slideshow": {
     "slide_type": "subslide"
    }
   },
   "source": [
    "## Remember\n",
    "\n",
    "* Core examples can be found in <https://github.com/UiO-INF3331/code-snippets-16.git> in `mixed` folder:\n",
    "    * Instant with numpy and 2D numpy\n",
    "    * Swig with and without numpy\n",
    "    * Cython with and without numpy"
   ]
  },
  {
   "cell_type": "markdown",
   "metadata": {
    "slideshow": {
     "slide_type": "subslide"
    }
   },
   "source": [
    "## What is the most convenient approach in each case?\n",
    "* Instant for inlining a simple loop\n",
    "* Cython for advanced Python/C interactions\n",
    "* Swig for wrapping larger libraries"
   ]
  }
 ],
 "metadata": {
  "celltoolbar": "Slideshow",
  "kernelspec": {
   "display_name": "Python 3",
   "language": "python",
   "name": "python3"
  },
  "language_info": {
   "codemirror_mode": {
    "name": "ipython",
    "version": 3
   },
   "file_extension": ".py",
   "mimetype": "text/x-python",
   "name": "python",
   "nbconvert_exporter": "python",
   "pygments_lexer": "ipython3",
   "version": "3.5.2"
  },
  "livereveal": {
   "scroll": true,
   "start_slideshow_at": "selected",
   "theme": "serif"
  }
 },
 "nbformat": 4,
 "nbformat_minor": 0
}
