{
 "cells": [
  {
   "cell_type": "markdown",
   "metadata": {
    "slideshow": {
     "slide_type": "slide"
    }
   },
   "source": [
    "# A crashcourse to C\n",
    "Simon Funke\n",
    "\n",
    "Date: **Oct 5, 2015**"
   ]
  },
  {
   "cell_type": "markdown",
   "metadata": {
    "slideshow": {
     "slide_type": "subslide"
    }
   },
   "source": [
    "## C programming language\n",
    "\n",
    "* Strongly typed, compiled language\n",
    "* Low level memory management, no garbage collector\n",
    "* If used correctly, it results in computationally very efficient programs.\n",
    "* Initially developed 1969, Bell Labs\n",
    "* Different standards: C89/C90, C99, C11\n",
    "* Different compilers: GNU C (gcc), Intel C++, ...\n",
    "* Lots of references available online, for example [Coding united C tutorial](http://www.codingunit.com/category/c-tutorials)"
   ]
  },
  {
   "cell_type": "markdown",
   "metadata": {
    "slideshow": {
     "slide_type": "subslide"
    }
   },
   "source": [
    "## Hello world in C"
   ]
  },
  {
   "cell_type": "markdown",
   "metadata": {},
   "source": [
    "```C\n",
    "// File helloworld.c\n",
    "#include <stdio.h>\n",
    "int main()\n",
    "{\n",
    "    // A comment\n",
    "    int x;\n",
    "\n",
    "    printf( \"Hello world\\n\" );\n",
    "\n",
    "    return 0;\n",
    "}\n",
    "```"
   ]
  },
  {
   "cell_type": "markdown",
   "metadata": {},
   "source": [
    "Compile with"
   ]
  },
  {
   "cell_type": "markdown",
   "metadata": {},
   "source": [
    "```bash\n",
    "gcc helloworld.c -o helloworld\n",
    "```"
   ]
  },
  {
   "cell_type": "markdown",
   "metadata": {},
   "source": [
    "Run with"
   ]
  },
  {
   "cell_type": "markdown",
   "metadata": {},
   "source": [
    "```bash\n",
    "./helloworld\n",
    "```"
   ]
  },
  {
   "cell_type": "markdown",
   "metadata": {
    "slideshow": {
     "slide_type": "subslide"
    }
   },
   "source": [
    "## Some compile options\n",
    "\n",
    "Compile with optimisations and show warnings"
   ]
  },
  {
   "cell_type": "markdown",
   "metadata": {},
   "source": [
    "```bash\n",
    "gcc -Wall -O3 helloworld.c -o helloworld\n",
    "```"
   ]
  },
  {
   "cell_type": "markdown",
   "metadata": {},
   "source": [
    "* `-Wall`: print out compiler warnings  (e.g. unused variables, ....)\n",
    "* `-O3`:   switch on compiler optimisation to produce faster code\n",
    "* `-o filename`:    name of outfile file (executable)"
   ]
  },
  {
   "cell_type": "markdown",
   "metadata": {
    "slideshow": {
     "slide_type": "subslide"
    }
   },
   "source": [
    "## Variables\n",
    "* C is strongly typed\n",
    "* That is, every variable must be declared before its usage:"
   ]
  },
  {
   "cell_type": "markdown",
   "metadata": {},
   "source": [
    "```C\n",
    "int i;                  // declare integer, no defined value\n",
    "int j = 10;             // integer with value 10\n",
    "float y = 10.0;         // float\n",
    "const float pi = 3.14;  // constant float\n",
    "double z = 10.0;        // double\n",
    "char c = 'A';           // (one) character,\n",
    "                        // represented as numbers between 0..255\n",
    "\n",
    "i = 2;                  // OK\n",
    "c = 'B';                // OK\n",
    "y = 2;                  // OK, implict conversion to float\n",
    "pi = 3.1415;            // compile error: assignment of read-only variable\n",
    "i = 1.4;                // compile error: i is of type int\n",
    "c = 1;                  // works. why?\n",
    "```"
   ]
  },
  {
   "cell_type": "markdown",
   "metadata": {},
   "source": [
    "Note: The end of each command is indicated with a semicolon."
   ]
  },
  {
   "cell_type": "markdown",
   "metadata": {
    "slideshow": {
     "slide_type": "subslide"
    }
   },
   "source": [
    "## Conditions"
   ]
  },
  {
   "cell_type": "markdown",
   "metadata": {},
   "source": [
    "```C\n",
    "if ( c == 'A')\n",
    "{\n",
    "    printf(\"In first case\\n\"); //  '\\n' prints a new line\n",
    "}\n",
    "else if ( (i > 10 && j > 20) || c == 'B' )\n",
    "{\n",
    "    printf(\"In second case\\n\");\n",
    "}\n",
    "else\n",
    "    printf(\"In third case\\n\");\n",
    "```"
   ]
  },
  {
   "cell_type": "markdown",
   "metadata": {},
   "source": [
    "* Condition is wrapped in ()\n",
    "* Conditional statements are wrapped {}\n",
    "* For one line statements, the \\{\\} can be dropped."
   ]
  },
  {
   "cell_type": "markdown",
   "metadata": {
    "slideshow": {
     "slide_type": "subslide"
    }
   },
   "source": [
    "## Loops\n",
    "\n",
    "* `for` loop"
   ]
  },
  {
   "cell_type": "markdown",
   "metadata": {},
   "source": [
    "```C\n",
    "int cnt;\n",
    "for (cnt = 0; cnt < 10; cnt++)\n",
    "{\n",
    "    printf (\"%i\\n\", cnt);\n",
    "}\n",
    "```"
   ]
  },
  {
   "cell_type": "markdown",
   "metadata": {
    "slideshow": {
     "slide_type": "fragment"
    }
   },
   "source": [
    "* `do while` loop"
   ]
  },
  {
   "cell_type": "markdown",
   "metadata": {},
   "source": [
    "```C\n",
    "int cnt = 10;\n",
    "do\n",
    "{\n",
    "    cnt -= 1;\n",
    "    printf (\"%i\\n\", cnt);\n",
    "}\n",
    "while(cnt > 0);\n",
    "```"
   ]
  },
  {
   "cell_type": "markdown",
   "metadata": {
    "slideshow": {
     "slide_type": "subslide"
    }
   },
   "source": [
    "## Functions"
   ]
  },
  {
   "cell_type": "markdown",
   "metadata": {},
   "source": [
    "```C\n",
    "void PrintMe()\n",
    "{\n",
    "    printf(\"Printing in a function.\\n\");\n",
    "}\n",
    "\n",
    "int Add(int in1, int in2 )\n",
    "{\n",
    "    return in1 + in2;\n",
    "}\n",
    "\n",
    "void main()\n",
    "{\n",
    "    int sum;\n",
    "\n",
    "    PrintMe();\n",
    "    sum = Add(1, 2);\n",
    "    sum = Add(1, 2.0);  // compilee rror: type mismatch\n",
    "}\n",
    "```\n"
   ]
  },
  {
   "cell_type": "markdown",
   "metadata": {},
   "source": [
    "* C functions have no or more input arguments and exactly one return value.\n",
    "* Return value can be `void` (nothing).\n",
    "* Type of parguments and return values must be specified."
   ]
  },
  {
   "cell_type": "markdown",
   "metadata": {
    "slideshow": {
     "slide_type": "subslide"
    }
   },
   "source": [
    "## Arrays"
   ]
  },
  {
   "cell_type": "markdown",
   "metadata": {},
   "source": [
    "```C\n",
    "int a[3];   // Array with integers of length 3\n",
    "a[0] = 1; a[1] = 2; a[2] = 3;\n",
    "\n",
    "int i;\n",
    "for ( i = 0; i < 3; i=i+1 )\n",
    "    a[i] = 0;\n",
    "a[4] = 6;   // Might work, or you get a Segmentation fault\n",
    "```"
   ]
  },
  {
   "cell_type": "markdown",
   "metadata": {},
   "source": [
    "* The last line tries to access an element outside the array.\n",
    "* The C compiler does not check if the index is within the bounds.\n",
    "* There is no C-equivalent to `len(a)` in Python. You need to keep track of the array length yourself.\n",
    "* This means that, when passing an array as an argument to a function, one also needs to pass the length of the array as an integer argument:"
   ]
  },
  {
   "cell_type": "markdown",
   "metadata": {},
   "source": [
    "## Pointers\n",
    "\n",
    "* Every variable is stored in memory. The location of the variable in memory is called the *memory address*.\n",
    "* A pointer is a data type that can store a memory address. *A pointer points to another variable.*\n",
    "* There are two basic operations that we can do with pointers:\n",
    "   1. Get the memory address of a variable and store it in a pointer.\n",
    "   2. Retrieve the variable a pointer points to.\n",
    "\n",
    "Use cases for pointers:\n",
    "* To store and access information stored in arrays.\n",
    "* Create dynamic data structures.\n",
    "* Pass variables to a function without copying.\n",
    "* To create functions that change many variables."
   ]
  },
  {
   "cell_type": "markdown",
   "metadata": {
    "slideshow": {
     "slide_type": "subslide"
    }
   },
   "source": [
    "## Getting the memory address of a variable\n",
    "\n",
    "The `&` operator in C returns the memory adress of a variable."
   ]
  },
  {
   "cell_type": "markdown",
   "metadata": {},
   "source": [
    "```C\n",
    "int i=8;\n",
    "char c='a';\n",
    "\n",
    "&i;                  // Get the memory address of i\n",
    "printf(\"%i\\n\", &c);  // Print the memory adress of c as an integer\n",
    "```"
   ]
  },
  {
   "cell_type": "markdown",
   "metadata": {
    "slideshow": {
     "slide_type": "fragment"
    }
   },
   "source": [
    "Running this program on my computer yields"
   ]
  },
  {
   "cell_type": "markdown",
   "metadata": {},
   "source": [
    "```bash\n",
    ">> ./a.out\n",
    "6295624\n",
    "```"
   ]
  },
  {
   "cell_type": "markdown",
   "metadata": {},
   "source": [
    "The memory address might be different next time the program is executed."
   ]
  },
  {
   "cell_type": "markdown",
   "metadata": {
    "slideshow": {
     "slide_type": "subslide"
    }
   },
   "source": [
    "## Creating pointers\n",
    "\n",
    "* A pointer stores one memory location\n",
    "* Pointers are typed\n",
    "* Adding a `*` to the type in a declaration creates a pointer\n",
    "* When initialising a pointer, it points to an undefined memory address\n"
   ]
  },
  {
   "cell_type": "markdown",
   "metadata": {},
   "source": [
    "```C\n",
    "int* ptr_i;    // Declare a pointer to an integer\n",
    "float* ptr_f;  // Declare a pointer to a float\n",
    "char* ptr_c;   // Declare a pointer to a character\n",
    "```"
   ]
  },
  {
   "cell_type": "markdown",
   "metadata": {
    "slideshow": {
     "slide_type": "subslide"
    }
   },
   "source": [
    "## Using pointers"
   ]
  },
  {
   "cell_type": "markdown",
   "metadata": {},
   "source": [
    "```C\n",
    "int* ptr_i;    // Declare a pointer to an integer\n",
    "int i=8;\n",
    "ptr_i = &i;    // Store the memory address of i in ptr_i\n",
    "```"
   ]
  },
  {
   "cell_type": "markdown",
   "metadata": {
    "slideshow": {
     "slide_type": "subslide"
    }
   },
   "source": [
    "## Using pointers"
   ]
  },
  {
   "cell_type": "markdown",
   "metadata": {},
   "source": [
    "```C\n",
    "int* ptr_i;       // Declare a pointer to an integer\n",
    "float* ptr_f;     // Declare a pointer to a float\n",
    "int i=8;\n",
    "```"
   ]
  },
  {
   "cell_type": "markdown",
   "metadata": {},
   "source": [
    "Pointers are typed variables."
   ]
  },
  {
   "cell_type": "markdown",
   "metadata": {},
   "source": [
    "```C\n",
    "ptr_i = &i;       // Store the memory address of i in the ptr_i\n",
    "ptr_f = &i;       // Dangerous: ptr_f is a point to a float, not int\n",
    "                  // No error, just a compiler warning\n",
    "```"
   ]
  },
  {
   "cell_type": "markdown",
   "metadata": {},
   "source": [
    "Applying the `*` operator to a pointer yields the variable it points to."
   ]
  },
  {
   "cell_type": "markdown",
   "metadata": {},
   "source": [
    "```C\n",
    "int ii = *ptr_i;    // Get the variable the pointer point to (a int)\n",
    "float ff = *ptr_i;  // error: ptr_i is a int pointer\n",
    "float ff = *ptr_f;  // undefined behaviour: ptr_f was never initialised\n",
    "```"
   ]
  },
  {
   "cell_type": "markdown",
   "metadata": {
    "slideshow": {
     "slide_type": "subslide"
    }
   },
   "source": [
    "## A full example of pointer usage"
   ]
  },
  {
   "cell_type": "markdown",
   "metadata": {},
   "source": [
    "```C\n",
    "#include <stdio.h>\n",
    "        \n",
    "int main() {\n",
    "    int i;\n",
    "    int *ptr_i;\n",
    "\n",
    "    i = 3;\n",
    "    ptr_i = &i;\n",
    "    *ptr_i = 10;\n",
    "    printf(\"%d\\n\", i);\n",
    "    return 0;\n",
    "}\n",
    "```"
   ]
  },
  {
   "cell_type": "markdown",
   "metadata": {
    "slideshow": {
     "slide_type": "subslide"
    }
   },
   "source": [
    "## Pointer as function arguments\n",
    "\n",
    "* Task: Write a function that swaps two integer variables.\n",
    "* Problem: C only allows one return value for a function.\n",
    "* Solution: Pass pointers to the variables that need to be swapped."
   ]
  },
  {
   "cell_type": "markdown",
   "metadata": {},
   "source": [
    "```C\n",
    "void swapping(int *ptr_c, int *ptr_d) {\n",
    "    int tmp;\n",
    "\n",
    "    tmp = *ptr_c;\n",
    "    *ptr_c = *ptr_d;\n",
    "    *ptr_d = tmp;\n",
    "}\n",
    "\n",
    "int main(void) {\n",
    "    int a=1;\n",
    "    int b=3;\n",
    "\n",
    "    printf(\"before swap: %d %d\\n\", a, b);\n",
    "    swapping(&a, &b);\n",
    "    printf(\"after swap: %d %d\\n\", a, b);\n",
    "    return 0;\n",
    "}\n",
    "```"
   ]
  },
  {
   "cell_type": "markdown",
   "metadata": {
    "slideshow": {
     "slide_type": "subslide"
    }
   },
   "source": [
    "## Pointers and arrays\n",
    "\n",
    "* An array name is a constant pointer to the first element of the array:"
   ]
  },
  {
   "cell_type": "markdown",
   "metadata": {},
   "source": [
    "```C\n",
    "double array[3];   // array is equivalent to &array[0]\n",
    "double *ptr_array;\n",
    "\n",
    "ptr_array = array;  // ptr_array points to first element of array\n",
    "```"
   ]
  },
  {
   "cell_type": "markdown",
   "metadata": {},
   "source": [
    "* Pointer arithmetic can be used as an alternative to array indexing\n"
   ]
  },
  {
   "cell_type": "markdown",
   "metadata": {},
   "source": [
    "```C\n",
    "array[2]        // Access 3rd element in array\n",
    "*(ptr_array+2)  // Access 3rd element in array\n",
    "                // (Increment the memory adress twice, and get its value)\n",
    "```"
   ]
  },
  {
   "cell_type": "markdown",
   "metadata": {
    "slideshow": {
     "slide_type": "subslide"
    }
   },
   "source": [
    "## Pointers and arrays\n",
    "\n",
    "* An array can be used in a function by passing a pointer to its first element.\n",
    "* We need to keep know the length of the array. Hence the length is typically passed as an int parameter."
   ]
  },
  {
   "cell_type": "markdown",
   "metadata": {},
   "source": [
    "```C\n",
    "// Compute a*fac (elementwise) without copying a\n",
    "void multiply(int n, double *a, float fac)\n",
    "// n: the length of the array\n",
    "// a: an array (pointer to the first entry in the array)\n",
    "// fac: the multplication factor\n",
    "{\n",
    "    int i;\n",
    "    for (i=0; i<n; i=i+1) {\n",
    "        a[i] = fac*a[i];\n",
    "    }\n",
    "}\n",
    "\n",
    "if main() {\n",
    "    double a[3];\n",
    "    a[0] = 1; a[1] = 2; a[2] = 3;\n",
    "    multiply(3, a, 2.0)\n",
    "}\n",
    "```"
   ]
  },
  {
   "cell_type": "markdown",
   "metadata": {
    "slideshow": {
     "slide_type": "subslide"
    }
   },
   "source": [
    "## Two-dimensional arrays, part 1\n",
    "\n",
    "* We can store two-dimensional arrays in a one-dimensional array.\n",
    "* `This is the default behaviour of numpy` (row-major order).\n",
    "* In row-major order, consecutive elements of the rows of the array are contiguous in memory"
   ]
  },
  {
   "cell_type": "markdown",
   "metadata": {},
   "source": [
    "```C\n",
    "void printMatrix(int n, int m, int* a) {\n",
    "    int i, j;\n",
    "    for (i = 0; i < n; i=i+1) {\n",
    "        printf(\"\\n\");\n",
    "        for (j = 0; j < m; j=j+1)\n",
    "            printf(\"%i  \", a[i*m+j]);\n",
    "    }\n",
    "}\n",
    "\n",
    "int main() {\n",
    "    int n = 3;   // Number of rows\n",
    "    int m = 4;   // Number of columns\n",
    "    int a[n*m];\n",
    "    int i, j;\n",
    "\n",
    "    for (i = 0; i < n; i=i+1)\n",
    "        for (j = 0; j < m; j=j+1)\n",
    "            a[i*m+j] = i+j;\n",
    "\n",
    "    printMatrix(n, m, a);\n",
    "}\n",
    "```"
   ]
  },
  {
   "cell_type": "markdown",
   "metadata": {
    "slideshow": {
     "slide_type": "subslide"
    }
   },
   "source": [
    "## Multi-dimensional arrays, part 2\n",
    "\n",
    "* C supports natively higher dimensional arrays\n",
    "* These are implemented as pointer of pointers (array of arrays)"
   ]
  },
  {
   "cell_type": "markdown",
   "metadata": {},
   "source": [
    "```C\n",
    "int a[2][2];   // a is a constant pointer to int pointers\n",
    "               // (type `const int **`)\n",
    "int i, j;\n",
    "\n",
    "for (i = 0; i < 2; i=i+1)\n",
    "{\n",
    "    for ( j = 0; j < 2; j=j+1)\n",
    "    {\n",
    "        a[i][j] = i*j;\n",
    "        printf(\"a[%i][%i] = %i\\n\", i, j, a[i][j]);\n",
    "    }\n",
    "}\n",
    "```"
   ]
  },
  {
   "cell_type": "markdown",
   "metadata": {},
   "source": [
    "Note: The memory of the array might not be contiguous (required for numpy integration)."
   ]
  }
 ],
 "metadata": {
  "celltoolbar": "Slideshow",
  "kernelspec": {
   "display_name": "Python 3",
   "language": "python",
   "name": "python3"
  },
  "language_info": {
   "codemirror_mode": {
    "name": "ipython",
    "version": 3
   },
   "file_extension": ".py",
   "mimetype": "text/x-python",
   "name": "python",
   "nbconvert_exporter": "python",
   "pygments_lexer": "ipython3",
   "version": "3.5.2"
  },
  "livereveal": {
   "scroll": true,
   "start_slideshow_at": "selected",
   "theme": "serif"
  }
 },
 "nbformat": 4,
 "nbformat_minor": 0
}
