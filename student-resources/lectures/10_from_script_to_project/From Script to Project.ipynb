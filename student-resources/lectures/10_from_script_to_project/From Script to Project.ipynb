{
 "cells": [
  {
   "cell_type": "markdown",
   "metadata": {},
   "source": [
    "# From script to project"
   ]
  },
  {
   "cell_type": "markdown",
   "metadata": {},
   "source": [
    "## Typical steps\n",
    "\n",
    "1. Organize your script into modules and functions.\n",
    "2. Add documentation.\n",
    "4. Create project website with online documentation.\n",
    "3. Handle errors.\n",
    "5. Add tests.\n",
    "6. Add installation instructions/files."
   ]
  },
  {
   "cell_type": "markdown",
   "metadata": {},
   "source": [
    "## Our testcase "
   ]
  },
  {
   "cell_type": "markdown",
   "metadata": {},
   "source": [
    "We will use the `Monty Hall Game` implementation from last week as an example."
   ]
  },
  {
   "cell_type": "markdown",
   "metadata": {},
   "source": [
    "```bash\n",
    "monty_hall_game/\n",
    "    game_server.py     # Start web server\n",
    "    templates/*.html   # Templates for web-server\n",
    "```"
   ]
  },
  {
   "cell_type": "markdown",
   "metadata": {},
   "source": [
    "**Goal**:\n",
    "Make the game available as a project with a command line interface and web interface, documentation, tests and error handling."
   ]
  },
  {
   "cell_type": "markdown",
   "metadata": {},
   "source": [
    "## Step 1. Organize your script into modules and functions."
   ]
  },
  {
   "cell_type": "markdown",
   "metadata": {},
   "source": [
    "New directory structure:"
   ]
  },
  {
   "cell_type": "markdown",
   "metadata": {},
   "source": [
    "```bash\n",
    "monty_hall_game/\n",
    "    bin/\n",
    "        play_monty_hall_cli.py     # Start game with command line interface \n",
    "        play_monty_hall_web.py     # Start game with web-server\n",
    "        templates/*.html           # Templates for web-server\n",
    "    monty_hall_game/\n",
    "        __init__.py                # Module init file\n",
    "        monty_hall_game.py         # Module file\n",
    "```"
   ]
  },
  {
   "cell_type": "markdown",
   "metadata": {},
   "source": [
    "## Step 2. Add documentation"
   ]
  },
  {
   "cell_type": "markdown",
   "metadata": {},
   "source": [
    "We should add docstrings to the module `monty_hall_game.py` file.\n",
    "\n",
    "Once done, we can access the docstrings as usual:"
   ]
  },
  {
   "cell_type": "code",
   "execution_count": null,
   "metadata": {
    "collapsed": true
   },
   "outputs": [],
   "source": [
    "import monty_hall_game\n",
    "monty_hall_game.MontyHallGame?"
   ]
  },
  {
   "cell_type": "markdown",
   "metadata": {},
   "source": [
    "## Step 3. Create website with online documentation "
   ]
  },
  {
   "cell_type": "markdown",
   "metadata": {},
   "source": [
    "http://localhost:8888/notebooks/Documentation%20with%20pydoc%20and%20sphinx.ipynb#Sphinx"
   ]
  },
  {
   "cell_type": "markdown",
   "metadata": {},
   "source": [
    "New files:\n",
    "    \n",
    "```bash\n",
    "    doc/\n",
    "        conf.py  \n",
    "        index.rst  \n",
    "        make.bat  \n",
    "        Makefile  \n",
    "        modules.rst  \n",
    "        monty_hall_game.rst  \n",
    "```        "
   ]
  },
  {
   "cell_type": "markdown",
   "metadata": {},
   "source": [
    "## Step 4. Handling errors"
   ]
  },
  {
   "cell_type": "markdown",
   "metadata": {},
   "source": [
    "Our script currently does not handle invalid inputs.\n",
    "\n",
    "We will use Python `Exception` classes to handle errors."
   ]
  },
  {
   "cell_type": "markdown",
   "metadata": {},
   "source": [
    "http://localhost:8888/notebooks/Error%20handling%20in%20Python.ipynb"
   ]
  },
  {
   "cell_type": "markdown",
   "metadata": {},
   "source": [
    "## Step 5. Add tests\n",
    "\n",
    "We will use `pytest` as testing framework.\n",
    "New files:\n",
    "    \n",
    "```bash\n",
    "monty_hall_game/\n",
    "    tests\n",
    "        test_module.py\n",
    "```\n",
    "\n",
    "We can run the tests with"
   ]
  },
  {
   "cell_type": "code",
   "execution_count": 21,
   "metadata": {
    "collapsed": true
   },
   "outputs": [
    {
     "name": "stdout",
     "output_type": "stream",
     "text": [
      "\u001b[1m============================= test session starts ==============================\u001b[0m\r\n",
      "platform linux -- Python 3.5.2, pytest-3.0.4, py-1.4.31, pluggy-0.4.0\r\n",
      "rootdir: /home/sf1409/Documents/inf3331/resources-16/lectures/10_from_script_to_project/monty-hall-game5, inifile: \r\n",
      "\u001b[1m\r",
      "collecting 0 items\u001b[0m\u001b[1m\r",
      "collecting 3 items\u001b[0m\u001b[1m\r",
      "collected 3 items \r\n",
      "\u001b[0m\r\n",
      "tests/test_module.py ...\r\n",
      "\r\n",
      "\u001b[1m\u001b[32m=========================== 3 passed in 0.01 seconds ===========================\u001b[0m\r\n"
     ]
    }
   ],
   "source": [
    "!cd monty-hall-game5 && python -m pytest tests"
   ]
  },
  {
   "cell_type": "markdown",
   "metadata": {},
   "source": [
    "## Step 6. Add installation files and instructions\n",
    "\n",
    "### Setuptools\n",
    "First thing we need is a `setup.py` file:"
   ]
  },
  {
   "cell_type": "code",
   "execution_count": 3,
   "metadata": {
    "collapsed": true
   },
   "outputs": [
    {
     "name": "stdout",
     "output_type": "stream",
     "text": [
      "from setuptools import setup\r\n",
      "\r\n",
      "setup(\r\n",
      "    name = \"monty_hall_game\",\r\n",
      "    version = \"0.0.1\",\r\n",
      "    author = \"Simon Funke\",\r\n",
      "    author_email = \"simon@simula.no\",\r\n",
      "    description = (\"A game implementation of the Monty Hall problem.\"),\r\n",
      "    license = \"BSD\",\r\n",
      "    packages=['monty_hall_game'],\r\n",
      ")\r\n"
     ]
    }
   ],
   "source": [
    "!cat monty-hall-game6/setup.py"
   ]
  },
  {
   "cell_type": "markdown",
   "metadata": {},
   "source": [
    "We can now install the `MontyHallGame` module with\n",
    "```bash\n",
    "python setup.py install\n",
    "```\n",
    "or, better, with\n",
    "```bash\n",
    "pip install . \n",
    "```"
   ]
  },
  {
   "cell_type": "markdown",
   "metadata": {},
   "source": [
    "Using the Python package manager `pip` has the advantage of calling `setup.py` that we can easily uninstall our package again:\n",
    "```bash\n",
    "pip uninstall monty_hall_game\n",
    "```"
   ]
  },
  {
   "cell_type": "markdown",
   "metadata": {},
   "source": [
    "### Dependencies"
   ]
  },
  {
   "cell_type": "markdown",
   "metadata": {},
   "source": [
    "Our project has some dependencies, such as `flask` and `pytest`. We can list these in the file `requirements.txt`:"
   ]
  },
  {
   "cell_type": "code",
   "execution_count": 11,
   "metadata": {
    "collapsed": false
   },
   "outputs": [
    {
     "name": "stdout",
     "output_type": "stream",
     "text": [
      "flask\r\n",
      "pytest\r\n",
      "sphinx\r\n"
     ]
    }
   ],
   "source": [
    "!cat monty-hall-game6/requirements.txt"
   ]
  },
  {
   "cell_type": "markdown",
   "metadata": {},
   "source": [
    "The dependencies can be automatically installed with"
   ]
  },
  {
   "cell_type": "code",
   "execution_count": 13,
   "metadata": {
    "collapsed": true
   },
   "outputs": [
    {
     "name": "stdout",
     "output_type": "stream",
     "text": [
      "Requirement already satisfied: flask in /home/sf1409/miniconda3/lib/python3.5/site-packages (from -r monty-hall-game6/requirements.txt (line 1))\n",
      "Requirement already satisfied: pytest in /home/sf1409/miniconda3/lib/python3.5/site-packages (from -r monty-hall-game6/requirements.txt (line 2))\n",
      "Requirement already satisfied: sphinx in /home/sf1409/miniconda3/lib/python3.5/site-packages (from -r monty-hall-game6/requirements.txt (line 3))\n",
      "Requirement already satisfied: Werkzeug>=0.7 in /home/sf1409/miniconda3/lib/python3.5/site-packages (from flask->-r monty-hall-game6/requirements.txt (line 1))\n",
      "Requirement already satisfied: Jinja2>=2.4 in /home/sf1409/.local/lib/python3.5/site-packages (from flask->-r monty-hall-game6/requirements.txt (line 1))\n",
      "Requirement already satisfied: itsdangerous>=0.21 in /home/sf1409/miniconda3/lib/python3.5/site-packages (from flask->-r monty-hall-game6/requirements.txt (line 1))\n",
      "Requirement already satisfied: click>=2.0 in /home/sf1409/miniconda3/lib/python3.5/site-packages (from flask->-r monty-hall-game6/requirements.txt (line 1))\n",
      "Requirement already satisfied: py>=1.4.29 in /home/sf1409/miniconda3/lib/python3.5/site-packages (from pytest->-r monty-hall-game6/requirements.txt (line 2))\n",
      "Requirement already satisfied: babel!=2.0,>=1.3 in /home/sf1409/.local/lib/python3.5/site-packages (from sphinx->-r monty-hall-game6/requirements.txt (line 3))\n",
      "Requirement already satisfied: docutils>=0.11 in /home/sf1409/.local/lib/python3.5/site-packages (from sphinx->-r monty-hall-game6/requirements.txt (line 3))\n",
      "Requirement already satisfied: alabaster<0.8,>=0.7 in /home/sf1409/.local/lib/python3.5/site-packages (from sphinx->-r monty-hall-game6/requirements.txt (line 3))\n",
      "Requirement already satisfied: imagesize in /home/sf1409/.local/lib/python3.5/site-packages (from sphinx->-r monty-hall-game6/requirements.txt (line 3))\n",
      "Requirement already satisfied: six>=1.5 in /home/sf1409/.local/lib/python3.5/site-packages (from sphinx->-r monty-hall-game6/requirements.txt (line 3))\n",
      "Requirement already satisfied: snowballstemmer>=1.1 in /home/sf1409/.local/lib/python3.5/site-packages (from sphinx->-r monty-hall-game6/requirements.txt (line 3))\n",
      "Requirement already satisfied: Pygments>=2.0 in /home/sf1409/.local/lib/python3.5/site-packages (from sphinx->-r monty-hall-game6/requirements.txt (line 3))\n",
      "Requirement already satisfied: MarkupSafe in /home/sf1409/.local/lib/python3.5/site-packages (from Jinja2>=2.4->flask->-r monty-hall-game6/requirements.txt (line 1))\n",
      "Requirement already satisfied: pytz>=0a in /home/sf1409/miniconda3/lib/python3.5/site-packages (from babel!=2.0,>=1.3->sphinx->-r monty-hall-game6/requirements.txt (line 3))\n"
     ]
    }
   ],
   "source": [
    "!pip install -r monty-hall-game6/requirements.txt"
   ]
  },
  {
   "cell_type": "markdown",
   "metadata": {},
   "source": [
    "### Installation instructions"
   ]
  },
  {
   "cell_type": "markdown",
   "metadata": {},
   "source": [
    "Finally it is good practice to add an INSTALL file with the installation instructions:"
   ]
  },
  {
   "cell_type": "code",
   "execution_count": 8,
   "metadata": {
    "collapsed": false
   },
   "outputs": [
    {
     "name": "stdout",
     "output_type": "stream",
     "text": [
      "Install dependencies with\r\n",
      "\r\n",
      ">> pip install -r requirements.txt\r\n",
      "\r\n",
      "Install the game with\r\n",
      "\r\n",
      ">> pip install .\r\n"
     ]
    }
   ],
   "source": [
    "!cat monty-hall-game6/INSTALL"
   ]
  },
  {
   "cell_type": "markdown",
   "metadata": {},
   "source": [
    "### New files\n",
    "    \n",
    "```bash\n",
    "monty_hall_game/\n",
    "    INSTALL                     # Installation instructions\n",
    "    requirements.txt            # List of project dependencies \n",
    "    setup.py                    # SetupTools file\n",
    "```"
   ]
  },
  {
   "cell_type": "markdown",
   "metadata": {},
   "source": [
    "## Final directory layout"
   ]
  },
  {
   "cell_type": "markdown",
   "metadata": {},
   "source": [
    "```bash\n",
    "monyty_hall_game/\n",
    "    INSTALL\n",
    "    requirements.txt  \n",
    "    setup.py\n",
    "    monty_hall_game/\n",
    "        __init__.py  \n",
    "        game_exceptions.py  \n",
    "        monty_hall_game.py    \n",
    "    \n",
    "    bin/\n",
    "        play_monty_hall_cli.py  \n",
    "        play_monty_hall_web.py  \n",
    "        templates/*.html\n",
    "    doc/\n",
    "        conf.py  \n",
    "        index.rst  \n",
    "        make.bat  \n",
    "        Makefile  \n",
    "        modules.rst  \n",
    "        monty_hall_game.rst  \n",
    "    tests\n",
    "        test_module.py\n",
    "```"
   ]
  }
 ],
 "metadata": {
  "kernelspec": {
   "display_name": "Python 3",
   "language": "python",
   "name": "python3"
  },
  "language_info": {
   "codemirror_mode": {
    "name": "ipython",
    "version": 3
   },
   "file_extension": ".py",
   "mimetype": "text/x-python",
   "name": "python",
   "nbconvert_exporter": "python",
   "pygments_lexer": "ipython3",
   "version": "3.5.2"
  }
 },
 "nbformat": 4,
 "nbformat_minor": 1
}
