{
 "cells": [
  {
   "cell_type": "markdown",
   "metadata": {},
   "source": [
    "# Python documentation with pydoc and sphinx"
   ]
  },
  {
   "cell_type": "markdown",
   "metadata": {},
   "source": [
    "## PyDoc\n",
    "\n",
    "PyDoc is a small tool to automatically generates documentation of Python files."
   ]
  },
  {
   "cell_type": "markdown",
   "metadata": {},
   "source": [
    "\n",
    "Create the text documentation for a Python file:\n",
    "\n",
    "```bash\n",
    "pydoc python_file\n",
    "```\n",
    "\n",
    "Create a html documentation for a Python file:\n",
    "\n",
    "```bash\n",
    "pydoc -w python_file\n",
    "```\n",
    "\n",
    "Start an HTTP server on an unused port and open a Web browser to interactively browse documentation:\n",
    "```bash\n",
    "pydoc -b 5555\n",
    "```"
   ]
  },
  {
   "cell_type": "markdown",
   "metadata": {},
   "source": [
    "## Test with our example:"
   ]
  },
  {
   "cell_type": "code",
   "execution_count": 8,
   "metadata": {
    "collapsed": false
   },
   "outputs": [
    {
     "name": "stdout",
     "output_type": "stream",
     "text": [
      "wrote monty_hall_game.html\r\n"
     ]
    }
   ],
   "source": [
    "!pydoc -w monty-hall-game3/monty_hall_game/monty_hall_game.py"
   ]
  },
  {
   "cell_type": "code",
   "execution_count": 9,
   "metadata": {
    "collapsed": false
   },
   "outputs": [
    {
     "name": "stdout",
     "output_type": "stream",
     "text": [
      "Created new window in existing browser session.\r\n"
     ]
    }
   ],
   "source": [
    "!google-chrome monty_hall_game.html"
   ]
  },
  {
   "cell_type": "markdown",
   "metadata": {},
   "source": [
    "# Sphinx"
   ]
  },
  {
   "cell_type": "markdown",
   "metadata": {},
   "source": [
    "Sphinx is a more powerful tool to create documentation for Python projects and provides more flexibiliy."
   ]
  },
  {
   "cell_type": "markdown",
   "metadata": {},
   "source": [
    "### Installation\n",
    "```bash\n",
    "pip install sphinx\n",
    "```"
   ]
  },
  {
   "cell_type": "markdown",
   "metadata": {},
   "source": [
    "### How to get started"
   ]
  },
  {
   "cell_type": "markdown",
   "metadata": {},
   "source": [
    "1. Use the quick start command to configure a base Sphinx documentation\n",
    "```bash\n",
    "sphinx-quickstart\n",
    "```\n",
    "Amongst other thinngs, the quickstart guide will ask for the documentation folder. I tpyically choose `doc` for this.\n",
    "2. Use \n",
    "```bash\n",
    "sphinx-apidoc -o doc moduledir\n",
    "```\n",
    "to add documentation for each module. \n",
    "3. Edit `docs/index.rst` to change the content of your main page. "
   ]
  }
 ],
 "metadata": {
  "kernelspec": {
   "display_name": "Python 3",
   "language": "python",
   "name": "python3"
  },
  "language_info": {
   "codemirror_mode": {
    "name": "ipython",
    "version": 3
   },
   "file_extension": ".py",
   "mimetype": "text/x-python",
   "name": "python",
   "nbconvert_exporter": "python",
   "pygments_lexer": "ipython3",
   "version": "3.5.2"
  }
 },
 "nbformat": 4,
 "nbformat_minor": 1
}
