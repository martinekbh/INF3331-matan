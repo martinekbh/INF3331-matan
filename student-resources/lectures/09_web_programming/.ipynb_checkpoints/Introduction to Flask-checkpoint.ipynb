{
 "cells": [
  {
   "cell_type": "markdown",
   "metadata": {},
   "source": [
    "# Building websites with Flask"
   ]
  },
  {
   "cell_type": "markdown",
   "metadata": {},
   "source": [
    "## What is Flask?\n",
    "\n",
    "Flask is a **micro web application framework**.\n",
    "\n",
    "You can use Flask to:\n",
    "* Build a static website (blog, private homepage)\n",
    "* Build dynamic websites\n",
    "* Build an API server\n",
    "\n",
    "Some Flask features:\n",
    "* Development server and debugger\n",
    "* Integrated support for unit testing\n",
    "* Open-source\n",
    "* No database abstraction layer, no form validation or similar advanced features \n",
    "\n",
    "\n",
    "\n",
    "### Documentation\n",
    "\n",
    "http://flask.pocoo.org/docs\n",
    "\n",
    "### Installation\n",
    "\n",
    "```bash\n",
    "conda install flask\n",
    "```\n",
    "\n",
    "\n",
    "### Alternatives\n",
    "* Django (https://www.djangoproject.com)\n",
    "* Tornado (http://www.tornadoweb.org/en/stable/)\n",
    "* Ruby on Rails (http://rubyonrails.org) "
   ]
  },
  {
   "cell_type": "markdown",
   "metadata": {},
   "source": [
    "## Hello world in Flask"
   ]
  },
  {
   "cell_type": "code",
   "execution_count": 8,
   "metadata": {
    "collapsed": true
   },
   "outputs": [],
   "source": [
    "# File: hello_world.py\n",
    "from flask import Flask\n",
    "app = Flask(__name__)\n",
    "\n",
    "@app.route(\"/\")\n",
    "def hello():\n",
    "    return \"Hello World!\"\n",
    "\n",
    "if __name__ == \"__main__\":\n",
    "    app.run()"
   ]
  },
  {
   "cell_type": "markdown",
   "metadata": {},
   "source": [
    "Run the flask server with:\n",
    "```bash\n",
    "python my_webserver.py\n",
    "   * Running on http://localhost:5000/\n",
    "```            \n",
    "\n",
    "Then open http://localhost:5000/ in your web browser. To stop the server, hit `Control-C`.\n"
   ]
  },
  {
   "cell_type": "markdown",
   "metadata": {},
   "source": [
    "## What happened?\n",
    "\n",
    "```python\n",
    "from flask import Flask\n",
    "app = Flask(__name__)\n",
    "```\n",
    "The instance of the `Flask` class is our web application.\n",
    "\n",
    "The first argument is needed so that Flask knows where to look for templates, static files, and so on.  If you are using a single module simply use `__name__`. \n",
    "\n",
    "```python\n",
    "@app.route(\"/\")\n",
    "def hello():\n",
    "    return \"Hello World!\"\n",
    "```\n",
    "\n",
    "We then use the route() decorator to tell Flask what URL should trigger our function. By default, Flask answers to GET requests, and the return value of the function is the answer of the `GET` request.\n",
    "\n",
    "```python\n",
    "if __name__ == \"__main__\":\n",
    "    app.run()\n",
    "```\n",
    "\n",
    "Finally we use the `run()` function to run the local server with our application. \n",
    "\n",
    "**Note**: You need to restart the sever when changing your code."
   ]
  },
  {
   "cell_type": "markdown",
   "metadata": {},
   "source": [
    "## Debug mode\n",
    "You can use \n",
    "```python\n",
    "app.run(debug=True)\n",
    "``` \n",
    "to see more detailed error output. \n",
    "\n",
    "In debug mode the server will reload itself on code changes. \n"
   ]
  },
  {
   "cell_type": "markdown",
   "metadata": {},
   "source": [
    "## Making the server available in your network\n",
    "\n",
    "If you want your server to be accessible from your entire network, you need to launch the server with:\n",
    "```python\n",
    "app.run(host='0.0.0.0')\n",
    "```\n",
    "\n",
    "**Important**: This allows *anyone* in your network to access your webbrowser, which might be a severe security riks!"
   ]
  },
  {
   "cell_type": "markdown",
   "metadata": {},
   "source": [
    "## Adding more URLs"
   ]
  },
  {
   "cell_type": "markdown",
   "metadata": {},
   "source": [
    "We can serve additional URLs by adding new functions with the route decorator:"
   ]
  },
  {
   "cell_type": "code",
   "execution_count": 9,
   "metadata": {
    "collapsed": true
   },
   "outputs": [
    {
     "name": "stderr",
     "output_type": "stream",
     "text": [
      "127.0.0.1 - - [08/Nov/2016 21:39:32] \"GET /user HTTP/1.1\" 200 -\n",
      "127.0.0.1 - - [08/Nov/2016 21:39:32] \"GET /favicon.ico HTTP/1.1\" 404 -\n"
     ]
    }
   ],
   "source": [
    "users = {\"richard\": \"Richard Lee\",\n",
    "         \"john\": \"John Smith\"}\n",
    "\n",
    "@app.route('/user')\n",
    "def show_user_overview():\n",
    "    users_str = \"<br>\".join(users.values())\n",
    "    return '<h1>Our users</h1><br>{}'.format(users_str)\n",
    "app.run()"
   ]
  },
  {
   "cell_type": "markdown",
   "metadata": {},
   "source": [
    "Matches only http://localhost:5000/user"
   ]
  },
  {
   "cell_type": "code",
   "execution_count": 3,
   "metadata": {
    "collapsed": false
   },
   "outputs": [],
   "source": [
    "@app.route('/user/<username>')\n",
    "def show_user_profile(username):\n",
    "    # show the user profile for that user\n",
    "    return 'User %s' % username"
   ]
  },
  {
   "cell_type": "markdown",
   "metadata": {},
   "source": [
    "Matches http://localhost:5000/user/NAME for any `NAME`"
   ]
  },
  {
   "cell_type": "markdown",
   "metadata": {},
   "source": [
    "## Templates"
   ]
  },
  {
   "cell_type": "markdown",
   "metadata": {},
   "source": [
    "So far our webserver only served simple textstrings, but no HTML documents. \n",
    "\n",
    "One solution would be to define the entire HTML string in the URL handler, e.g.:\n",
    "\n",
    "```python\n",
    "@app.route('/login')\n",
    "def login():\n",
    "    return '''\n",
    "<html>\n",
    "<header><title>The title</title></header>\n",
    "<body>\n",
    "Hello world\n",
    "</body>\n",
    "</html>    \n",
    "    '''\n",
    "```\n",
    "\n",
    "However, Flask comes with a templating system that makes our life a lot easier:"
   ]
  },
  {
   "cell_type": "code",
   "execution_count": 10,
   "metadata": {
    "collapsed": true
   },
   "outputs": [],
   "source": [
    "from flask import render_template\n",
    "\n",
    "@app.route('/post/')\n",
    "@app.route('/post/<name>')\n",
    "def post(name=None):\n",
    "    return render_template('post.html', name=name)"
   ]
  },
  {
   "cell_type": "markdown",
   "metadata": {},
   "source": [
    "Flask will look for templates in the `templates` folder."
   ]
  },
  {
   "cell_type": "markdown",
   "metadata": {
    "collapsed": false
   },
   "source": [
    "```html\n",
    "<!-- ./templates/post.html -->\n",
    "\n",
    "<!doctype html>\n",
    "<title>Hello from Flask</title>\n",
    "{% if name %}\n",
    "  <h1>Displaying blog post {{ name }}!</h1>\n",
    "{% else %}\n",
    "  <h1>No post name given!</h1>\n",
    "{% endif %}\n",
    "```"
   ]
  },
  {
   "cell_type": "code",
   "execution_count": 11,
   "metadata": {
    "collapsed": true
   },
   "outputs": [
    {
     "name": "stderr",
     "output_type": "stream",
     "text": [
      "127.0.0.1 - - [08/Nov/2016 21:40:41] \"GET /user HTTP/1.1\" 200 -\n",
      "127.0.0.1 - - [08/Nov/2016 21:40:48] \"GET /post HTTP/1.1\" 301 -\n",
      "127.0.0.1 - - [08/Nov/2016 21:40:48] \"GET /post/ HTTP/1.1\" 200 -\n",
      "127.0.0.1 - - [08/Nov/2016 21:40:55] \"GET /post/Simon HTTP/1.1\" 200 -\n"
     ]
    }
   ],
   "source": [
    "app.run()"
   ]
  },
  {
   "cell_type": "markdown",
   "metadata": {},
   "source": [
    "## HTML form"
   ]
  },
  {
   "cell_type": "markdown",
   "metadata": {},
   "source": [
    "Using the template, we can now create a HTML form with a `POST` requets"
   ]
  },
  {
   "cell_type": "markdown",
   "metadata": {
    "collapsed": false,
    "scrolled": false
   },
   "source": [
    "```html\n",
    "<!-- ./templates/login.html -->\n",
    "\n",
    "<!doctype html>\n",
    "<title>Login</title>\n",
    "\n",
    "{% if error %}\n",
    "<p style=\"color:red\">{{ error }}</p>\n",
    "{% endif %}\n",
    "\n",
    "<form action=\"handle_login\" method=\"POST\">\n",
    "    Username:\n",
    "    <br>\n",
    "    <input type=\"text\" name=\"username\">\n",
    "    <br>\n",
    "    Password:\n",
    "    <br>\n",
    "    <input type=\"password\" name=\"password\">\n",
    "    <br>\n",
    "    <input type=\"submit\" value=\"Submit\">\n",
    "</form>\n",
    "```\n"
   ]
  },
  {
   "cell_type": "code",
   "execution_count": null,
   "metadata": {
    "collapsed": true
   },
   "outputs": [],
   "source": []
  },
  {
   "cell_type": "code",
   "execution_count": 14,
   "metadata": {
    "collapsed": false
   },
   "outputs": [
    {
     "ename": "AssertionError",
     "evalue": "View function mapping is overwriting an existing endpoint function: login",
     "output_type": "error",
     "traceback": [
      "\u001b[0;31m---------------------------------------------------------------------------\u001b[0m",
      "\u001b[0;31mAssertionError\u001b[0m                            Traceback (most recent call last)",
      "\u001b[0;32m<ipython-input-14-38ab6faf5256>\u001b[0m in \u001b[0;36m<module>\u001b[0;34m()\u001b[0m\n\u001b[0;32m----> 1\u001b[0;31m \u001b[0;34m@\u001b[0m\u001b[0mapp\u001b[0m\u001b[0;34m.\u001b[0m\u001b[0mroute\u001b[0m\u001b[0;34m(\u001b[0m\u001b[0;34m'/login'\u001b[0m\u001b[0;34m)\u001b[0m\u001b[0;34m\u001b[0m\u001b[0m\n\u001b[0m\u001b[1;32m      2\u001b[0m \u001b[0;32mdef\u001b[0m \u001b[0mlogin\u001b[0m\u001b[0;34m(\u001b[0m\u001b[0;34m)\u001b[0m\u001b[0;34m:\u001b[0m\u001b[0;34m\u001b[0m\u001b[0m\n\u001b[1;32m      3\u001b[0m     \u001b[0;32mreturn\u001b[0m \u001b[0mrender_template\u001b[0m\u001b[0;34m(\u001b[0m\u001b[0;34m'login.html'\u001b[0m\u001b[0;34m)\u001b[0m\u001b[0;34m\u001b[0m\u001b[0m\n",
      "\u001b[0;32m/home/sf1409/miniconda3/lib/python3.5/site-packages/flask/app.py\u001b[0m in \u001b[0;36mdecorator\u001b[0;34m(f)\u001b[0m\n\u001b[1;32m   1095\u001b[0m         \u001b[0;32mdef\u001b[0m \u001b[0mdecorator\u001b[0m\u001b[0;34m(\u001b[0m\u001b[0mf\u001b[0m\u001b[0;34m)\u001b[0m\u001b[0;34m:\u001b[0m\u001b[0;34m\u001b[0m\u001b[0m\n\u001b[1;32m   1096\u001b[0m             \u001b[0mendpoint\u001b[0m \u001b[0;34m=\u001b[0m \u001b[0moptions\u001b[0m\u001b[0;34m.\u001b[0m\u001b[0mpop\u001b[0m\u001b[0;34m(\u001b[0m\u001b[0;34m'endpoint'\u001b[0m\u001b[0;34m,\u001b[0m \u001b[0;32mNone\u001b[0m\u001b[0;34m)\u001b[0m\u001b[0;34m\u001b[0m\u001b[0m\n\u001b[0;32m-> 1097\u001b[0;31m             \u001b[0mself\u001b[0m\u001b[0;34m.\u001b[0m\u001b[0madd_url_rule\u001b[0m\u001b[0;34m(\u001b[0m\u001b[0mrule\u001b[0m\u001b[0;34m,\u001b[0m \u001b[0mendpoint\u001b[0m\u001b[0;34m,\u001b[0m \u001b[0mf\u001b[0m\u001b[0;34m,\u001b[0m \u001b[0;34m**\u001b[0m\u001b[0moptions\u001b[0m\u001b[0;34m)\u001b[0m\u001b[0;34m\u001b[0m\u001b[0m\n\u001b[0m\u001b[1;32m   1098\u001b[0m             \u001b[0;32mreturn\u001b[0m \u001b[0mf\u001b[0m\u001b[0;34m\u001b[0m\u001b[0m\n\u001b[1;32m   1099\u001b[0m         \u001b[0;32mreturn\u001b[0m \u001b[0mdecorator\u001b[0m\u001b[0;34m\u001b[0m\u001b[0m\n",
      "\u001b[0;32m/home/sf1409/miniconda3/lib/python3.5/site-packages/flask/app.py\u001b[0m in \u001b[0;36mwrapper_func\u001b[0;34m(self, *args, **kwargs)\u001b[0m\n\u001b[1;32m     63\u001b[0m                 \u001b[0;34m'database models and everything related at a central place '\u001b[0m\u001b[0;34m\u001b[0m\u001b[0m\n\u001b[1;32m     64\u001b[0m                 'before the application starts serving requests.')\n\u001b[0;32m---> 65\u001b[0;31m         \u001b[0;32mreturn\u001b[0m \u001b[0mf\u001b[0m\u001b[0;34m(\u001b[0m\u001b[0mself\u001b[0m\u001b[0;34m,\u001b[0m \u001b[0;34m*\u001b[0m\u001b[0margs\u001b[0m\u001b[0;34m,\u001b[0m \u001b[0;34m**\u001b[0m\u001b[0mkwargs\u001b[0m\u001b[0;34m)\u001b[0m\u001b[0;34m\u001b[0m\u001b[0m\n\u001b[0m\u001b[1;32m     66\u001b[0m     \u001b[0;32mreturn\u001b[0m \u001b[0mupdate_wrapper\u001b[0m\u001b[0;34m(\u001b[0m\u001b[0mwrapper_func\u001b[0m\u001b[0;34m,\u001b[0m \u001b[0mf\u001b[0m\u001b[0;34m)\u001b[0m\u001b[0;34m\u001b[0m\u001b[0m\n\u001b[1;32m     67\u001b[0m \u001b[0;34m\u001b[0m\u001b[0m\n",
      "\u001b[0;32m/home/sf1409/miniconda3/lib/python3.5/site-packages/flask/app.py\u001b[0m in \u001b[0;36madd_url_rule\u001b[0;34m(self, rule, endpoint, view_func, **options)\u001b[0m\n\u001b[1;32m   1066\u001b[0m             \u001b[0;32mif\u001b[0m \u001b[0mold_func\u001b[0m \u001b[0;32mis\u001b[0m \u001b[0;32mnot\u001b[0m \u001b[0;32mNone\u001b[0m \u001b[0;32mand\u001b[0m \u001b[0mold_func\u001b[0m \u001b[0;34m!=\u001b[0m \u001b[0mview_func\u001b[0m\u001b[0;34m:\u001b[0m\u001b[0;34m\u001b[0m\u001b[0m\n\u001b[1;32m   1067\u001b[0m                 raise AssertionError('View function mapping is overwriting an '\n\u001b[0;32m-> 1068\u001b[0;31m                                      'existing endpoint function: %s' % endpoint)\n\u001b[0m\u001b[1;32m   1069\u001b[0m             \u001b[0mself\u001b[0m\u001b[0;34m.\u001b[0m\u001b[0mview_functions\u001b[0m\u001b[0;34m[\u001b[0m\u001b[0mendpoint\u001b[0m\u001b[0;34m]\u001b[0m \u001b[0;34m=\u001b[0m \u001b[0mview_func\u001b[0m\u001b[0;34m\u001b[0m\u001b[0m\n\u001b[1;32m   1070\u001b[0m \u001b[0;34m\u001b[0m\u001b[0m\n",
      "\u001b[0;31mAssertionError\u001b[0m: View function mapping is overwriting an existing endpoint function: login"
     ]
    }
   ],
   "source": [
    "@app.route('/login')\n",
    "def login():\n",
    "    return render_template('login.html')"
   ]
  },
  {
   "cell_type": "code",
   "execution_count": 8,
   "metadata": {
    "collapsed": false
   },
   "outputs": [],
   "source": [
    "app.run()"
   ]
  },
  {
   "cell_type": "markdown",
   "metadata": {},
   "source": [
    "## Handling the `POST` request."
   ]
  },
  {
   "cell_type": "markdown",
   "metadata": {},
   "source": [
    "The form above sends a `POST` request to the `handle_login` URL. \n",
    "\n",
    "We can use \n",
    "```python\n",
    "@app.route('/handle_login', methods=['POST'])     \n",
    "```\n",
    "to create a new Flask handler that accepts `POST` requests.\n",
    "\n",
    "We can then use the \n",
    "```python\n",
    "flask.request\n",
    "```\n",
    "module to access the data in the `POST` request (here the username and password that the user provided in the form)."
   ]
  },
  {
   "cell_type": "code",
   "execution_count": 9,
   "metadata": {
    "collapsed": false
   },
   "outputs": [],
   "source": [
    "from flask import request\n",
    "                                                                                                                                                                                                                                               \n",
    "@app.route('/handle_login', methods=['POST'])                                                                                                                                                                                                  \n",
    "def handle_login():           \n",
    "    \n",
    "    assert request.method == 'POST'   # Check that we are really in a POST request\n",
    "    \n",
    "    # Acces the form data:\n",
    "    username = request.form[\"username\"]\n",
    "    password = request.form[\"password\"]\n",
    "    \n",
    "    if username == \"simon\" and password == \"safe\":                                                                                                                                                             \n",
    "        return \"You are logged in Simon\"                                                                                                                                                                                                       \n",
    "    else:                                                                                                                                                                                                                                      \n",
    "        error = \"Invalid credentials\"                                                                                                                                                                                                          \n",
    "        return render_template(\"login.html\", error=error)     "
   ]
  },
  {
   "cell_type": "code",
   "execution_count": null,
   "metadata": {
    "collapsed": true
   },
   "outputs": [],
   "source": [
    "app.run()"
   ]
  }
 ],
 "metadata": {
  "celltoolbar": "Slideshow",
  "kernelspec": {
   "display_name": "Python 3",
   "language": "python",
   "name": "python3"
  },
  "language_info": {
   "codemirror_mode": {
    "name": "ipython",
    "version": 3
   },
   "file_extension": ".py",
   "mimetype": "text/x-python",
   "name": "python",
   "nbconvert_exporter": "python",
   "pygments_lexer": "ipython3",
   "version": "3.5.2"
  }
 },
 "nbformat": 4,
 "nbformat_minor": 0
}
