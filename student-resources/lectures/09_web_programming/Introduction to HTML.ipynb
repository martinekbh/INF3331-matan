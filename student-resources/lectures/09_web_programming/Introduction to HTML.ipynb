{
 "cells": [
  {
   "cell_type": "markdown",
   "metadata": {},
   "source": [
    "# Introduction to HTML\n",
    "\n",
    "HyperText Markup Language (HTML), is the standard markup language used to create web pages. \n",
    "\n",
    "* Used as markup language for basically every website on the internet.\n",
    "* Developed by the World Wide Web Consortium (W3C).\n",
    "* Current version: HTML5 is supported by most modern internet browsers.\n",
    "\n"
   ]
  },
  {
   "cell_type": "markdown",
   "metadata": {},
   "source": [
    "## Resources\n",
    "\n",
    "* w3schools: http://www.w3schools.com/html/default.asp\n",
    "    "
   ]
  },
  {
   "cell_type": "markdown",
   "metadata": {},
   "source": [
    "## A simple HTML document"
   ]
  },
  {
   "cell_type": "markdown",
   "metadata": {},
   "source": [
    "The Hello world version of an HTML document is:"
   ]
  },
  {
   "cell_type": "markdown",
   "metadata": {},
   "source": [
    "```html\n",
    "<!DOCTYPE html>\n",
    "<html>\n",
    "\n",
    "  <!-- The head tag contains header information about the HTML document. -->\n",
    "  <head>\n",
    "    <title>This is a title</title>\n",
    "  </head>\n",
    "  \n",
    "  <!-- The body tag contains the content of the HTML document. -->\n",
    "  <body>\n",
    "    <!-- Add your content here -->\n",
    "    <p>Hello world!</p>\n",
    "  </body>\n",
    "  \n",
    "</html>\n",
    "```"
   ]
  },
  {
   "cell_type": "markdown",
   "metadata": {},
   "source": [
    "Save this file as `index.html` and open it with your favorite web browser, e.g. `firefox index.html`\n",
    "\n",
    "## Syntax\n",
    "\n",
    "* The HTML file consists of tags, denoted by `<tagname>`\n",
    "* Most HTML elements are marked by a tag pair (start tag and end tag): `<tagname>content</tagname>`\n",
    "* Some HTML elements have no content (and hence no end tag): `<img>` or `<br>`\n",
    "* A tag can have attributes, for example: `<tagname atttribute1=\"value1\" attribute2=\"value2\">`"
   ]
  },
  {
   "cell_type": "markdown",
   "metadata": {},
   "source": [
    "## Comments"
   ]
  },
  {
   "cell_type": "markdown",
   "metadata": {},
   "source": [
    "Comments are enclosed the `<!-- This is a comment -->` tag:"
   ]
  },
  {
   "cell_type": "markdown",
   "metadata": {
    "collapsed": false
   },
   "source": [
    "```html\n",
    "<!-- This is a multiline comment. \n",
    "It will not be rendered. -->\n",
    "```"
   ]
  },
  {
   "cell_type": "markdown",
   "metadata": {},
   "source": [
    "-------------------------------\n",
    "## Formatting"
   ]
  },
  {
   "cell_type": "markdown",
   "metadata": {},
   "source": [
    "### Headings"
   ]
  },
  {
   "cell_type": "code",
   "execution_count": 67,
   "metadata": {
    "collapsed": true
   },
   "outputs": [
    {
     "data": {
      "text/html": [
       "<h1>I am a header</h1>\n",
       "<h2>I am a sub-header</h2>"
      ],
      "text/plain": [
       "<IPython.core.display.HTML object>"
      ]
     },
     "metadata": {},
     "output_type": "display_data"
    }
   ],
   "source": [
    "%%html\n",
    "<h1>I am a header</h1>\n",
    "<h2>I am a sub-header</h2>"
   ]
  },
  {
   "cell_type": "markdown",
   "metadata": {},
   "source": [
    "----------------------------------------\n",
    "## New lines"
   ]
  },
  {
   "cell_type": "markdown",
   "metadata": {},
   "source": [
    "The HTML code for a newline is `<br>`:"
   ]
  },
  {
   "cell_type": "code",
   "execution_count": 69,
   "metadata": {
    "collapsed": true
   },
   "outputs": [
    {
     "data": {
      "text/html": [
       "Hello world<br>\n",
       "This text is on the next line"
      ],
      "text/plain": [
       "<IPython.core.display.HTML object>"
      ]
     },
     "metadata": {},
     "output_type": "display_data"
    }
   ],
   "source": [
    "%%html\n",
    "Hello world<br>\n",
    "This text is on the next line"
   ]
  },
  {
   "cell_type": "markdown",
   "metadata": {},
   "source": [
    "## Special characters"
   ]
  },
  {
   "cell_type": "markdown",
   "metadata": {},
   "source": [
    "HTML uses special codes to encode special characters, for example for mathematical, technical and currency symbols.\n",
    "Full list: http://www.w3schools.com/html/html_symbols.asp"
   ]
  },
  {
   "cell_type": "markdown",
   "metadata": {},
   "source": [
    "Examples:\n",
    "\n",
    "\n",
    "| Symbol        | HTML entity   |\n",
    "| ------------- |:-------------:|\n",
    "| Å             | `&Aring;`     |\n",
    "| å             | `&aring;`     |\n",
    "| Ø             | `&Oslash;`    |\n",
    "| ø             | `&oslash;`    |\n",
    "| Æ             | `&Aelig;`     |\n",
    "| æ             | `&aelig;`     |\n",
    "| '             | `&#34;`       |\n",
    "| \"             | `&quot;`      |\n",
    "| &amp;         | `&amp;`       |"
   ]
  },
  {
   "cell_type": "code",
   "execution_count": 93,
   "metadata": {
    "collapsed": true
   },
   "outputs": [
    {
     "data": {
      "text/html": [
       "<p>\n",
       "&Aring;s, S&oslash;r-Tr&oslash;ndelag\n",
       "</p>"
      ],
      "text/plain": [
       "<IPython.core.display.HTML object>"
      ]
     },
     "metadata": {},
     "output_type": "display_data"
    }
   ],
   "source": [
    "%%html\n",
    "<p>\n",
    "&Aring;s, S&oslash;r-Tr&oslash;ndelag\n",
    "</p>"
   ]
  },
  {
   "cell_type": "markdown",
   "metadata": {},
   "source": [
    "# Paragraphs"
   ]
  },
  {
   "cell_type": "code",
   "execution_count": 8,
   "metadata": {
    "collapsed": false
   },
   "outputs": [
    {
     "data": {
      "text/html": [
       "<p>\n",
       "This is a paragraph.\n",
       "</p>\n",
       "<p>\n",
       "This is another paragraph.\n",
       "</p>"
      ],
      "text/plain": [
       "<IPython.core.display.HTML object>"
      ]
     },
     "metadata": {},
     "output_type": "display_data"
    }
   ],
   "source": [
    "%%html\n",
    "<p>\n",
    "This is a paragraph.\n",
    "</p>\n",
    "<p>\n",
    "This is another paragraph.\n",
    "</p>"
   ]
  },
  {
   "cell_type": "markdown",
   "metadata": {},
   "source": [
    "## Italic text, bold text and links"
   ]
  },
  {
   "cell_type": "code",
   "execution_count": 3,
   "metadata": {
    "collapsed": false
   },
   "outputs": [
    {
     "data": {
      "text/html": [
       "<b>Bold text</b>\n",
       "\n",
       "<br>\n",
       "<i>Italic text</i>\n",
       "\n",
       "<br>\n",
       "<em>Emphasized text</em>\n",
       "\n",
       "<br>\n",
       "<a href=\"http://github.com\">This is a link</a>"
      ],
      "text/plain": [
       "<IPython.core.display.HTML object>"
      ]
     },
     "metadata": {},
     "output_type": "display_data"
    }
   ],
   "source": [
    "%%html\n",
    "<b>Bold text</b>\n",
    "\n",
    "<br>\n",
    "<i>Italic text</i>\n",
    "\n",
    "<br>\n",
    "<em>Emphasized text</em>\n",
    "\n",
    "<br>\n",
    "<a href=\"http://github.com\">This is a link</a>"
   ]
  },
  {
   "cell_type": "markdown",
   "metadata": {},
   "source": [
    "-------------------------------\n",
    "## Tables"
   ]
  },
  {
   "cell_type": "code",
   "execution_count": 27,
   "metadata": {
    "collapsed": false
   },
   "outputs": [
    {
     "data": {
      "text/html": [
       "<table>\n",
       " <tr>\n",
       "    <th>Name</th>\n",
       "    <th>Course</th> \n",
       "    <th>Points</th>\n",
       "  </tr>\n",
       "  <tr>\n",
       "    <td>Peter</td>\n",
       "    <td>INF3331</td> \n",
       "    <td>50</td>\n",
       "  </tr>\n",
       "  <tr>\n",
       "    <td>George</td>\n",
       "    <td>INF4331</td> \n",
       "    <td>94</td>\n",
       "  </tr>\n",
       "</table>"
      ],
      "text/plain": [
       "<IPython.core.display.HTML object>"
      ]
     },
     "metadata": {},
     "output_type": "display_data"
    }
   ],
   "source": [
    "%%html\n",
    "<table>\n",
    " <tr>\n",
    "    <th>Name</th>\n",
    "    <th>Course</th> \n",
    "    <th>Points</th>\n",
    "  </tr>\n",
    "  <tr>\n",
    "    <td>Peter</td>\n",
    "    <td>INF3331</td> \n",
    "    <td>50</td>\n",
    "  </tr>\n",
    "  <tr>\n",
    "    <td>George</td>\n",
    "    <td>INF4331</td> \n",
    "    <td>94</td>\n",
    "  </tr>\n",
    "</table>"
   ]
  },
  {
   "cell_type": "markdown",
   "metadata": {},
   "source": [
    "## Images"
   ]
  },
  {
   "cell_type": "code",
   "execution_count": 1,
   "metadata": {
    "collapsed": false,
    "scrolled": true
   },
   "outputs": [
    {
     "data": {
      "text/html": [
       "<img src=\"Rhinoceros.png\" alt=\"D&uuml;rer's Rhinoceros\">D&uuml;rer's Rhinoceros</img>"
      ],
      "text/plain": [
       "<IPython.core.display.HTML object>"
      ]
     },
     "metadata": {},
     "output_type": "display_data"
    }
   ],
   "source": [
    "%%html\n",
    "<img src=\"Rhinoceros.png\" alt=\"D&uuml;rer's Rhinoceros\">D&uuml;rer's Rhinoceros"
   ]
  },
  {
   "cell_type": "markdown",
   "metadata": {},
   "source": [
    "## Styling"
   ]
  },
  {
   "cell_type": "markdown",
   "metadata": {},
   "source": [
    "Every HTML document has a default style (background color white, text color black). The default style can be changed with the *style attribute*.\n",
    "\n",
    "```html\n",
    "<tagname style=\"property:value;\">\n",
    "```\n",
    "\n",
    "Multiple properties can be set with:\n",
    "```html\n",
    "<tagname style=\"property1:value; property2:value\">\n",
    "```\n",
    "\n",
    "Some Valid property options:\n",
    "* `width`\n",
    "* `height`\n",
    "* `color`\n",
    "* `background-color`\n",
    "* `font-family`\n",
    "* `font-size`\n",
    "* `text-align`\n"
   ]
  },
  {
   "cell_type": "markdown",
   "metadata": {},
   "source": [
    "### Examples"
   ]
  },
  {
   "cell_type": "code",
   "execution_count": 65,
   "metadata": {
    "collapsed": false
   },
   "outputs": [
    {
     "data": {
      "text/html": [
       "<img src=\"Rhinoceros.png\" alt=\"D&uuml;rer&#39;s Rhinoceros\" style=\"width:100px;\">D&uuml;rer&#39;s Rhinoceros</img>"
      ],
      "text/plain": [
       "<IPython.core.display.HTML object>"
      ]
     },
     "metadata": {},
     "output_type": "display_data"
    }
   ],
   "source": [
    "%%html\n",
    "<img src=\"Rhinoceros.png\" alt=\"D&uuml;rer&#39;s Rhinoceros\" style=\"width:100px;\">D&uuml;rer&#39;s Rhinoceros"
   ]
  },
  {
   "cell_type": "code",
   "execution_count": 86,
   "metadata": {
    "collapsed": false
   },
   "outputs": [
    {
     "data": {
      "text/html": [
       "<p style=\"color:blue; background-color:rgb(255,0,255);\">\n",
       "Some colorful text.\n",
       "</p>"
      ],
      "text/plain": [
       "<IPython.core.display.HTML object>"
      ]
     },
     "metadata": {},
     "output_type": "display_data"
    }
   ],
   "source": [
    "%%html\n",
    "<p style=\"color:blue; background-color:rgb(255,0,255);\">\n",
    "Some colorful text.\n",
    "</p>"
   ]
  },
  {
   "cell_type": "markdown",
   "metadata": {},
   "source": [
    "## Remarks"
   ]
  },
  {
   "cell_type": "markdown",
   "metadata": {},
   "source": [
    "Web browsers are not very strict when it comes to handling erroneous HTML documents. "
   ]
  },
  {
   "cell_type": "markdown",
   "metadata": {},
   "source": [
    "You can check if your HTML page conforms to the W3C standard with the W3C validation service https://validator.w3.org"
   ]
  },
  {
   "cell_type": "code",
   "execution_count": 7,
   "metadata": {
    "collapsed": false
   },
   "outputs": [
    {
     "data": {
      "text/html": [
       "<img src=\"Rhinoceros.png\" alt=\"D&uuml;rer's Rhinoceros\" style=\"width:100px;\"></img>\n",
       "<i>A Rhinoceros\n",
       "<b>Hallo"
      ],
      "text/plain": [
       "<IPython.core.display.HTML object>"
      ]
     },
     "metadata": {},
     "output_type": "display_data"
    }
   ],
   "source": [
    "%%html\n",
    "<img src=\"Rhinoceros.png\" alt=\"D&uuml;rer's Rhinoceros\" style=\"width:100px;\"></img>\n",
    "<i>A Rhinoceros\n",
    "<b>Hallo"
   ]
  }
 ],
 "metadata": {
  "kernelspec": {
   "display_name": "Python 3",
   "language": "python",
   "name": "python3"
  },
  "language_info": {
   "codemirror_mode": {
    "name": "ipython",
    "version": 3
   },
   "file_extension": ".py",
   "mimetype": "text/x-python",
   "name": "python",
   "nbconvert_exporter": "python",
   "pygments_lexer": "ipython3",
   "version": "3.5.2"
  }
 },
 "nbformat": 4,
 "nbformat_minor": 0
}
