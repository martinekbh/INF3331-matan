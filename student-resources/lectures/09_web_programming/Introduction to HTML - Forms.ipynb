{
 "cells": [
  {
   "cell_type": "markdown",
   "metadata": {},
   "source": [
    "# HTML Forms"
   ]
  },
  {
   "cell_type": "markdown",
   "metadata": {},
   "source": [
    "HTML forms are used to collect user input. The syntax is:\n",
    "\n",
    "```html\n",
    "<form>   \n",
    "\n",
    "<!-- form elements -->\n",
    "\n",
    "</form>\n",
    "```"
   ]
  },
  {
   "cell_type": "markdown",
   "metadata": {},
   "source": [
    "A HTML form contains one or many form elements. These elements can be \n",
    "* text input\n",
    "* checkboxes\n",
    "* radio buttons\n",
    "* submit buttons\n",
    "* ..."
   ]
  },
  {
   "cell_type": "markdown",
   "metadata": {},
   "source": [
    "## The `<input>` element"
   ]
  },
  {
   "cell_type": "markdown",
   "metadata": {},
   "source": [
    "The input element is a form element that allows the user to input data. "
   ]
  },
  {
   "cell_type": "code",
   "execution_count": 2,
   "metadata": {
    "collapsed": false
   },
   "outputs": [
    {
     "data": {
      "text/html": [
       "<form>\n",
       "  <input type=\"password\" name=\"firstname\">\n",
       "</form>"
      ],
      "text/plain": [
       "<IPython.core.display.HTML object>"
      ]
     },
     "metadata": {},
     "output_type": "display_data"
    }
   ],
   "source": [
    "%%html\n",
    "<form>\n",
    "  <input type=\"password\" name=\"firstname\">\n",
    "</form>"
   ]
  },
  {
   "cell_type": "markdown",
   "metadata": {},
   "source": [
    "\n",
    "\n",
    "\n",
    "There are different `types` of input elements:\n",
    "* `type=text`: Defines a text input\n",
    "* `type=password`: Defines a text input where characters are hidden.\n",
    "* `type=radio`: Defines a radio button input (select one out of N).\n",
    "* `type=submit`: Defines a submit button for submitting the form."
   ]
  },
  {
   "cell_type": "markdown",
   "metadata": {},
   "source": [
    "**Note**: The `<input>` element also has a `name` attribute which we will need later to access the form values."
   ]
  },
  {
   "cell_type": "markdown",
   "metadata": {},
   "source": [
    "## Text input"
   ]
  },
  {
   "cell_type": "code",
   "execution_count": 8,
   "metadata": {
    "collapsed": false
   },
   "outputs": [
    {
     "data": {
      "text/html": [
       "<form>\n",
       "  First name:<br>\n",
       "  <input type=\"text\" name=\"firstname\">\n",
       "  <br>\n",
       "  Last name:<br>\n",
       "  <input type=\"text\" name=\"lastname\">\n",
       "  <br>\n",
       "  Password:<br>\n",
       "  <input type=\"password\" name=\"lastname\">\n",
       "</form>"
      ],
      "text/plain": [
       "<IPython.core.display.HTML object>"
      ]
     },
     "metadata": {},
     "output_type": "display_data"
    }
   ],
   "source": [
    "%%html\n",
    "<form>\n",
    "  First name:<br>\n",
    "  <input type=\"text\" name=\"firstname\">\n",
    "  <br>\n",
    "  Last name:<br>\n",
    "  <input type=\"text\" name=\"lastname\">\n",
    "  <br>\n",
    "  Password:<br>\n",
    "  <input type=\"password\" name=\"password\">\n",
    "</form>"
   ]
  },
  {
   "cell_type": "markdown",
   "metadata": {},
   "source": [
    "## Radio input"
   ]
  },
  {
   "cell_type": "code",
   "execution_count": 6,
   "metadata": {
    "collapsed": false
   },
   "outputs": [
    {
     "data": {
      "text/html": [
       "<form>\n",
       "  <input type=\"radio\" name=\"sex\" value=\"male\" checked>Male\n",
       "  <br>\n",
       "  <input type=\"radio\" name=\"sex\" value=\"female\">Female\n",
       "</form>"
      ],
      "text/plain": [
       "<IPython.core.display.HTML object>"
      ]
     },
     "metadata": {},
     "output_type": "display_data"
    }
   ],
   "source": [
    "%%html\n",
    "<form>\n",
    "  <input type=\"radio\" name=\"sex\" value=\"male\" checked>Male\n",
    "  <br>\n",
    "  <input type=\"radio\" name=\"sex\" value=\"female\">Female\n",
    "</form>"
   ]
  },
  {
   "cell_type": "markdown",
   "metadata": {},
   "source": [
    "## Submit button"
   ]
  },
  {
   "cell_type": "markdown",
   "metadata": {},
   "source": [
    "We can also add a submit button to our form:"
   ]
  },
  {
   "cell_type": "code",
   "execution_count": 8,
   "metadata": {
    "collapsed": false
   },
   "outputs": [
    {
     "data": {
      "text/html": [
       "<form action=\"http://www.bing.com/search\">\n",
       "  Bing search:<br>\n",
       "  <input type=\"text\" name=\"q\" value=\"Search me\">\n",
       "  <br>\n",
       "  <input type=\"submit\" value=\"Submit\">\n",
       "</form>"
      ],
      "text/plain": [
       "<IPython.core.display.HTML object>"
      ]
     },
     "metadata": {},
     "output_type": "display_data"
    }
   ],
   "source": [
    "%%html\n",
    "<form action=\"http://www.bing.com/search\">\n",
    "  Bing search:<br>\n",
    "  <input type=\"text\" name=\"q\" value=\"Search me\">\n",
    "  <br>\n",
    "  <input type=\"submit\" value=\"Submit\">\n",
    "</form>"
   ]
  },
  {
   "cell_type": "markdown",
   "metadata": {},
   "source": [
    "Pressing the submit button will send a `GET` request to the `bing.com/search` URL."
   ]
  }
 ],
 "metadata": {
  "kernelspec": {
   "display_name": "Python 3",
   "language": "python",
   "name": "python3"
  },
  "language_info": {
   "codemirror_mode": {
    "name": "ipython",
    "version": 3
   },
   "file_extension": ".py",
   "mimetype": "text/x-python",
   "name": "python",
   "nbconvert_exporter": "python",
   "pygments_lexer": "ipython3",
   "version": "3.5.2"
  }
 },
 "nbformat": 4,
 "nbformat_minor": 0
}
