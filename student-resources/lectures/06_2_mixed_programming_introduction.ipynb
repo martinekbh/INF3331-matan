{
 "cells": [
  {
   "cell_type": "markdown",
   "metadata": {
    "slideshow": {
     "slide_type": "slide"
    }
   },
   "source": [
    "# Mixed programming with Python\n",
    "\n",
    "Simon Funke, Hans Petter Langtangen, Joakim Sundnes, Ola Skavhaug\n",
    "\n",
    "Date: **Sep 27, 2016**"
   ]
  },
  {
   "cell_type": "markdown",
   "metadata": {
    "slideshow": {
     "slide_type": "subslide"
    }
   },
   "source": [
    "## Contents\n",
    "\n",
    "* Is Python slow for numerical computing?\n",
    "* Overview of mixed programming tools\n",
    "* Repository with code examples"
   ]
  },
  {
   "cell_type": "markdown",
   "metadata": {
    "slideshow": {
     "slide_type": "subslide"
    }
   },
   "source": [
    "## Is Python slow for numerical computing?"
   ]
  },
  {
   "cell_type": "markdown",
   "metadata": {
    "slideshow": {
     "slide_type": "fragment"
    }
   },
   "source": [
    "**Task**: Fill a NumPy array with function values.\n",
    "\n",
    "**Python implementation**:"
   ]
  },
  {
   "cell_type": "code",
   "execution_count": 6,
   "metadata": {
    "collapsed": false,
    "slideshow": {
     "slide_type": "fragment"
    }
   },
   "outputs": [],
   "source": [
    "from numpy import zeros, arange, sin\n",
    "\n",
    "n = 2000\n",
    "a = zeros((n,n))\n",
    "xcoor = arange(0,1,1/float(n))\n",
    "ycoor = arange(0,1,1/float(n))\n",
    "\n",
    "f = lambda x, y: sin(x**2 + y)\n",
    "\n",
    "for i in range(n):\n",
    "    for j in range(n):\n",
    "        a[i,j] = f(xcoor[i], ycoor[j])"
   ]
  },
  {
   "cell_type": "markdown",
   "metadata": {
    "slideshow": {
     "slide_type": "fragment"
    }
   },
   "source": [
    "**Timings**:\n",
    "\n",
    "|Version|Time (normalised)|\n",
    "|--|-------------------------------|\n",
    "|Fortran/C/C++ version |1.0|\n",
    "|NumPy vectorized evaluation of `f` |3.0|\n",
    "|Python loop version (`math.sin`)|  140 |\n",
    "|Python loop version (`numpy.sin`)|  350 |"
   ]
  },
  {
   "cell_type": "markdown",
   "metadata": {
    "slideshow": {
     "slide_type": "subslide"
    }
   },
   "source": [
    "## Comments\n",
    "\n",
    "* Python loops over arrays are extremely slow\n",
    "* NumPy vectorization may be sufficient\n",
    "* However, NumPy vectorization may be inconvenient - plain loops in Fortran/C/C++ are (sometimes) much easier"
   ]
  },
  {
   "cell_type": "markdown",
   "metadata": {
    "slideshow": {
     "slide_type": "subslide"
    }
   },
   "source": [
    "## Why are version in the compiled lagnuages faster?\n",
    "\n",
    "Optimizations of C, C++, and Fortran:\n",
    "* Compilers do a good job for C, C++, and Fortran.\n",
    "* The type system makes agressive optimization possible.\n",
    "* Examples: code inlining, loop unrolling, and memory prefetching."
   ]
  },
  {
   "cell_type": "markdown",
   "metadata": {
    "slideshow": {
     "slide_type": "subslide"
    }
   },
   "source": [
    "## Python optimization\n",
    "\n",
    "* No compiler.\n",
    "* No type declaration of variables.\n",
    "* No inlining and no loop unrolling.\n",
    "* Probably inefficient in Python:"
   ]
  },
  {
   "cell_type": "code",
   "execution_count": 22,
   "metadata": {
    "collapsed": true
   },
   "outputs": [],
   "source": [
    "def f(a, b):\n",
    "    return a + b"
   ]
  },
  {
   "cell_type": "markdown",
   "metadata": {
    "slideshow": {
     "slide_type": "slide"
    }
   },
   "source": [
    "# Overview of mixed programming tools"
   ]
  },
  {
   "cell_type": "markdown",
   "metadata": {
    "slideshow": {
     "slide_type": "subslide"
    }
   },
   "source": [
    "## Extending vs embedding Python"
   ]
  },
  {
   "cell_type": "markdown",
   "metadata": {
    "slideshow": {
     "slide_type": "fragment"
    }
   },
   "source": [
    "Python can be mixed with other languages in two ways:\n",
    "  1. By **extending** Python with libraries and functions written in other languages\n",
    "  2. By **embedding**, i.e. calling Python from inside a program written in another language    "
   ]
  },
  {
   "cell_type": "markdown",
   "metadata": {
    "slideshow": {
     "slide_type": "fragment"
    }
   },
   "source": [
    "We only consider extending Python, with two main use cases: \n",
    "  1. Accessing functions in existing libraries written in C or C++,   to avoid re-inventing existing tools \n",
    "  2. Speeding up a Python program by migrating slow loops to C or C++"
   ]
  },
  {
   "cell_type": "markdown",
   "metadata": {
    "slideshow": {
     "slide_type": "subslide"
    }
   },
   "source": [
    "## Summary of tools (1)\n",
    "\n",
    "* **Hand written wrapper code** using the Python-C-API;\n",
    "    * [+] General, low level control, no need for additional libraries   and tools\n",
    "    * [-] Time consuming, significant overhead"
   ]
  },
  {
   "cell_type": "markdown",
   "metadata": {
    "slideshow": {
     "slide_type": "fragment"
    }
   },
   "source": [
    "* **Ctypes**\n",
    "    * [+] Part of the standard Python library, no need for compiling,   all wrapper code is written in Python\n",
    "    * [-] Low support for C++, Python wrapper code introduces overhead"
   ]
  },
  {
   "cell_type": "markdown",
   "metadata": {
    "slideshow": {
     "slide_type": "subslide"
    }
   },
   "source": [
    "## Summary of tools (2)\n",
    "\n",
    "* **SWIG** (Simplified wrapper and interface generator);\n",
    "    * [+] Low-level wrapper code is autogenerated, works with C++, supports several scripting languages \n",
    "    * [-] Wrapper code is large, hard to debug\n",
    "    "
   ]
  },
  {
   "cell_type": "markdown",
   "metadata": {
    "slideshow": {
     "slide_type": "fragment"
    }
   },
   "source": [
    "* **Instant**\n",
    "    * [+] Easy to use for intended purpose\n",
    "    * [-] Inconvenient as a general-purpose wrapper tool"
   ]
  },
  {
   "cell_type": "markdown",
   "metadata": {
    "slideshow": {
     "slide_type": "subslide"
    }
   },
   "source": [
    "## Summary of tools (3)\n",
    "\n",
    "* **Cython**\n",
    "    * Extends the Python language with elements from C\n",
    "    * Python/Cython code is compiled and available as a Python module\n",
    "    * Cython has a growing and active group of users and developers\n",
    "    * Lots of advanced tools and possibilities\n",
    "    * [+] Get the flexibility of Python with the speed of C\n",
    "    * [-] Code can get complicated, not C and not Python, but something inbetween"
   ]
  },
  {
   "cell_type": "markdown",
   "metadata": {
    "slideshow": {
     "slide_type": "slide"
    }
   },
   "source": [
    "## Repository with code examples"
   ]
  },
  {
   "cell_type": "markdown",
   "metadata": {
    "slideshow": {
     "slide_type": "fragment"
    }
   },
   "source": [
    "Code examples with different mixed programming approaches can be found in \n",
    "\n",
    "<https://github.com/UiO-INF3331/code-snippets-16.git> \n",
    "\n",
    "in the `mixed` folder:\n",
    "* Instant with numpy and 2D numpy\n",
    "* Swig with and without numpy\n",
    "* A Cython with and without numpy"
   ]
  }
 ],
 "metadata": {
  "celltoolbar": "Slideshow",
  "kernelspec": {
   "display_name": "Python 3",
   "language": "python",
   "name": "python3"
  },
  "language_info": {
   "codemirror_mode": {
    "name": "ipython",
    "version": 3
   },
   "file_extension": ".py",
   "mimetype": "text/x-python",
   "name": "python",
   "nbconvert_exporter": "python",
   "pygments_lexer": "ipython3",
   "version": "3.5.2"
  },
  "livereveal": {
   "scroll": true,
   "start_slideshow_at": "selected",
   "theme": "serif"
  }
 },
 "nbformat": 4,
 "nbformat_minor": 1
}
