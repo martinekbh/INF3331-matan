{
 "cells": [
  {
   "cell_type": "markdown",
   "metadata": {
    "slideshow": {
     "slide_type": "slide"
    }
   },
   "source": [
    "# Introduction to Python 3\n",
    "**Simon Funke, Hans Petter Langtangen, Joakim Sundnes, Ola Skavhaug**\n",
    "\n",
    "Date: **Sept 6, 2016**"
   ]
  },
  {
   "cell_type": "markdown",
   "metadata": {
    "slideshow": {
     "slide_type": "slide"
    }
   },
   "source": [
    "## Contents\n",
    "  \n",
    "  * Running a Python script\n",
    "  * Variables and types\n",
    "  * Control structures\n",
    "  * Functions\n",
    "  * Documenting your code\n",
    "  * Reading and writing files\n",
    "  * Using and writing modules  "
   ]
  },
  {
   "cell_type": "markdown",
   "metadata": {
    "slideshow": {
     "slide_type": "slide"
    }
   },
   "source": [
    "## Remarks\n",
    "\n",
    "* Assignemnt 2 deadline extension: 3 days if you need to (send me an email)\n",
    "* Group sessions is flexible - go to the one that is most convienent for you\n",
    "* Sign up to piazza\n",
    "* Any Python 3 version should work for this course"
   ]
  },
  {
   "cell_type": "markdown",
   "metadata": {
    "slideshow": {
     "slide_type": "slide"
    }
   },
   "source": [
    "# Getting help"
   ]
  },
  {
   "cell_type": "markdown",
   "metadata": {
    "slideshow": {
     "slide_type": "subslide"
    }
   },
   "source": [
    "## Books and tutorials\n",
    "Here are some good books and tutorials for Python 3:\n",
    "  * [Python Library Reference](https://docs.python.org/3/)\n",
    "  * [Python 3 tutorial](https://docs.python.org/3/tutorial/)\n",
    "  * [Think Python](http://greenteapress.com/thinkpython2/)\n",
    "  * [H.P. Langtangen and G. K. Sandve: Illustrating Python via Bioinformatics Examples](http://hplgit.github.io/bioinf-py/doc/pub/html/) (Python 2)"
   ]
  },
  {
   "cell_type": "markdown",
   "metadata": {
    "slideshow": {
     "slide_type": "subslide"
    }
   },
   "source": [
    "## Build-in documentation\n",
    "\n",
    "Build-in documentation is accessible via the command line program `pydoc`:\n",
    "```bash\n",
    "pydoc anymodule\n",
    "pydoc anymodule.anyfunc\n",
    "```\n",
    "\n",
    "Example: "
   ]
  },
  {
   "cell_type": "code",
   "execution_count": 26,
   "metadata": {
    "collapsed": false,
    "slideshow": {
     "slide_type": "fragment"
    }
   },
   "outputs": [
    {
     "name": "stdout",
     "output_type": "stream",
     "text": [
      "Help on built-in function open in io:\r\n",
      "\r\n",
      "i\bio\bo.\b.o\bop\bpe\ben\bn = open(file, mode='r', buffering=-1, encoding=None, errors=None, newline=None, closefd=True, opener=None)\r\n",
      "    Open file and return a stream.  Raise IOError upon failure.\r\n",
      "    \r\n",
      "    file is either a text or byte string giving the name (and the path\r\n",
      "    if the file isn't in the current working directory) of the file to\r\n",
      "    be opened or an integer file descriptor of the file to be\r\n",
      "    wrapped. (If a file descriptor is given, it is closed when the\r\n",
      "    returned I/O object is closed, unless closefd is set to False.)\r\n",
      "    \r\n",
      "    mode is an optional string that specifies the mode in which the file\r\n",
      "    is opened. It defaults to 'r' which means open for reading in text\r\n",
      "    mode.  Other common values are 'w' for writing (truncating the file if\r\n",
      "    it already exists), 'x' for creating and writing to a new file, and\r\n",
      "    'a' for appending (which on some Unix systems, means that all writes\r\n",
      "    append to the end of the file regardless of the current seek position).\r\n",
      "    In text mode, if encoding is not specified the encoding used is platform\r\n",
      "    dependent: locale.getpreferredencoding(False) is called to get the\r\n",
      "    current locale encoding. (For reading and writing raw bytes use binary\r\n",
      "    mode and leave encoding unspecified.) The available modes are:\r\n",
      "    \r\n",
      "    ========= ===============================================================\r\n",
      "    Character Meaning\r\n",
      "    --------- ---------------------------------------------------------------\r\n",
      "    'r'       open for reading (default)\r\n",
      "    'w'       open for writing, truncating the file first\r\n",
      "    'x'       create a new file and open it for writing\r\n",
      "    'a'       open for writing, appending to the end of the file if it exists\r\n",
      "    'b'       binary mode\r\n",
      "    't'       text mode (default)\r\n",
      "    '+'       open a disk file for updating (reading and writing)\r\n",
      "    'U'       universal newline mode (deprecated)\r\n",
      "    ========= ===============================================================\r\n",
      "    \r\n",
      "    The default mode is 'rt' (open for reading text). For binary random\r\n",
      "    access, the mode 'w+b' opens and truncates the file to 0 bytes, while\r\n",
      "    'r+b' opens the file without truncation. The 'x' mode implies 'w' and\r\n",
      "    raises an `FileExistsError` if the file already exists.\r\n",
      "    \r\n",
      "    Python distinguishes between files opened in binary and text modes,\r\n",
      "    even when the underlying operating system doesn't. Files opened in\r\n",
      "    binary mode (appending 'b' to the mode argument) return contents as\r\n",
      "    bytes objects without any decoding. In text mode (the default, or when\r\n",
      "    't' is appended to the mode argument), the contents of the file are\r\n",
      "    returned as strings, the bytes having been first decoded using a\r\n",
      "    platform-dependent encoding or using the specified encoding if given.\r\n",
      "    \r\n",
      "    'U' mode is deprecated and will raise an exception in future versions\r\n",
      "    of Python.  It has no effect in Python 3.  Use newline to control\r\n",
      "    universal newlines mode.\r\n",
      "    \r\n",
      "    buffering is an optional integer used to set the buffering policy.\r\n",
      "    Pass 0 to switch buffering off (only allowed in binary mode), 1 to select\r\n",
      "    line buffering (only usable in text mode), and an integer > 1 to indicate\r\n",
      "    the size of a fixed-size chunk buffer.  When no buffering argument is\r\n",
      "    given, the default buffering policy works as follows:\r\n",
      "    \r\n",
      "    * Binary files are buffered in fixed-size chunks; the size of the buffer\r\n",
      "      is chosen using a heuristic trying to determine the underlying device's\r\n",
      "      \"block size\" and falling back on `io.DEFAULT_BUFFER_SIZE`.\r\n",
      "      On many systems, the buffer will typically be 4096 or 8192 bytes long.\r\n",
      "    \r\n",
      "    * \"Interactive\" text files (files for which isatty() returns True)\r\n",
      "      use line buffering.  Other text files use the policy described above\r\n",
      "      for binary files.\r\n",
      "    \r\n",
      "    encoding is the name of the encoding used to decode or encode the\r\n",
      "    file. This should only be used in text mode. The default encoding is\r\n",
      "    platform dependent, but any encoding supported by Python can be\r\n",
      "    passed.  See the codecs module for the list of supported encodings.\r\n",
      "    \r\n",
      "    errors is an optional string that specifies how encoding errors are to\r\n",
      "    be handled---this argument should not be used in binary mode. Pass\r\n",
      "    'strict' to raise a ValueError exception if there is an encoding error\r\n",
      "    (the default of None has the same effect), or pass 'ignore' to ignore\r\n",
      "    errors. (Note that ignoring encoding errors can lead to data loss.)\r\n",
      "    See the documentation for codecs.register or run 'help(codecs.Codec)'\r\n",
      "    for a list of the permitted encoding error strings.\r\n",
      "    \r\n",
      "    newline controls how universal newlines works (it only applies to text\r\n",
      "    mode). It can be None, '', '\\n', '\\r', and '\\r\\n'.  It works as\r\n",
      "    follows:\r\n",
      "    \r\n",
      "    * On input, if newline is None, universal newlines mode is\r\n",
      "      enabled. Lines in the input can end in '\\n', '\\r', or '\\r\\n', and\r\n",
      "      these are translated into '\\n' before being returned to the\r\n",
      "      caller. If it is '', universal newline mode is enabled, but line\r\n",
      "      endings are returned to the caller untranslated. If it has any of\r\n",
      "      the other legal values, input lines are only terminated by the given\r\n",
      "      string, and the line ending is returned to the caller untranslated.\r\n",
      "    \r\n",
      "    * On output, if newline is None, any '\\n' characters written are\r\n",
      "      translated to the system default line separator, os.linesep. If\r\n",
      "      newline is '' or '\\n', no translation takes place. If newline is any\r\n",
      "      of the other legal values, any '\\n' characters written are translated\r\n",
      "      to the given string.\r\n",
      "    \r\n",
      "    If closefd is False, the underlying file descriptor will be kept open\r\n",
      "    when the file is closed. This does not work when a file name is given\r\n",
      "    and must be True in that case.\r\n",
      "    \r\n",
      "    A custom opener can be used by passing a callable as *opener*. The\r\n",
      "    underlying file descriptor for the file object is then obtained by\r\n",
      "    calling *opener* with (*file*, *flags*). *opener* must return an open\r\n",
      "    file descriptor (passing os.open as *opener* results in functionality\r\n",
      "    similar to passing None).\r\n",
      "    \r\n",
      "    open() returns a file object whose type depends on the mode, and\r\n",
      "    through which the standard file operations such as reading and writing\r\n",
      "    are performed. When open() is used to open a file in a text mode ('w',\r\n",
      "    'r', 'wt', 'rt', etc.), it returns a TextIOWrapper. When used to open\r\n",
      "    a file in a binary mode, the returned class varies: in read binary\r\n",
      "    mode, it returns a BufferedReader; in write binary and append binary\r\n",
      "    modes, it returns a BufferedWriter, and in read/write mode, it returns\r\n",
      "    a BufferedRandom.\r\n",
      "    \r\n",
      "    It is also possible to use a string or bytearray as a file for both\r\n",
      "    reading and writing. For strings StringIO can be used like a file\r\n",
      "    opened in a text mode, and for bytes a BytesIO can be used like a file\r\n",
      "    opened in a binary mode.\r\n",
      "\r\n"
     ]
    }
   ],
   "source": [
    "!pydoc io.open"
   ]
  },
  {
   "cell_type": "markdown",
   "metadata": {
    "slideshow": {
     "slide_type": "slide"
    }
   },
   "source": [
    "# First Python encounter: a scientific hello world program"
   ]
  },
  {
   "cell_type": "markdown",
   "metadata": {
    "collapsed": false,
    "slideshow": {
     "slide_type": "fragment"
    }
   },
   "source": [
    "```python\n",
    "#!/usr/bin/env python\n",
    "from math import sin\n",
    "import sys\n",
    "\n",
    "x = float(sys.argv[1])\n",
    "print(\"Hello world, sin({0}) = {1}\".format(x, sin(x)))\n",
    "```\n",
    "\n",
    "Save this code in file `hw.py`."
   ]
  },
  {
   "cell_type": "markdown",
   "metadata": {
    "slideshow": {
     "slide_type": "subslide"
    }
   },
   "source": [
    "## Installation\n",
    "\n",
    "Python 3 is easily installed with the [Anaconda distribution](https://www.continuum.io/downloads).\n",
    "\n",
    "Check that Python 3.x is installed:\n",
    "\n",
    "```bash\n",
    "> python --version\n",
    "Python 3.5.2 :: Continuum Analytics, Inc.\n",
    "```"
   ]
  },
  {
   "cell_type": "markdown",
   "metadata": {
    "slideshow": {
     "slide_type": "subslide"
    }
   },
   "source": [
    "## Running the script from the command line\n",
    "\n",
    "Works an all operating systems:\n",
    "\n",
    "```bash\n",
    "> python hw.py 0.8\n",
    "Hello world, sin(0.8) = 0.7173560908995228\n",
    "```"
   ]
  },
  {
   "cell_type": "markdown",
   "metadata": {
    "slideshow": {
     "slide_type": "fragment"
    }
   },
   "source": [
    "Linux/OSX alternative if file is executable (`chmod a+x hw.py`):\n",
    "\n",
    "```bash\n",
    "> ./hw.py 10\n",
    "Hello world, sin(10.0) = -0.5440211108893698\n",
    "```"
   ]
  },
  {
   "cell_type": "markdown",
   "metadata": {
    "slideshow": {
     "slide_type": "subslide"
    }
   },
   "source": [
    "## Dissection of `hw.py` (1)\n",
    "\n",
    "On Linux/OSX: find out what kind of script language (interpreter) to use:\n",
    "\n",
    "```python\n",
    "#!/usr/bin/env python\n",
    "```"
   ]
  },
  {
   "cell_type": "markdown",
   "metadata": {
    "slideshow": {
     "slide_type": "fragment"
    }
   },
   "source": [
    "Access library functionality like the function `sin` and the list `sys.arg`\n",
    "(of command-line arguments):\n",
    "\n",
    "```python\n",
    "from math import sin\n",
    "import sys\n",
    "```"
   ]
  },
  {
   "cell_type": "markdown",
   "metadata": {
    "slideshow": {
     "slide_type": "fragment"
    }
   },
   "source": [
    "Read first command line argument and convert it to a floating point object:\n",
    "\n",
    "```python\n",
    "x = float(sys.argv[1])\n",
    "```"
   ]
  },
  {
   "cell_type": "markdown",
   "metadata": {
    "slideshow": {
     "slide_type": "subslide"
    }
   },
   "source": [
    "## Dissection of `hw.py` (2)\n",
    "\n",
    "Print out the result using a format string:\n",
    "\n",
    "```python\n",
    "print(\"Hello world, sin({0}) = {1}\".format(x, sin(x)))  # Python 3 syntax\n",
    "```\n",
    "\n",
    "or with complete control of the formating of floats (`printf` syntax):\n",
    "\n",
    "```python\n",
    "print(\"Hello world, sin({x:g}) = {s:.3f}\".format(x=x, s=sin(x)))\n",
    "```"
   ]
  },
  {
   "cell_type": "markdown",
   "metadata": {
    "slideshow": {
     "slide_type": "subslide"
    }
   },
   "source": [
    "## Interactive Python & Jupyter notebook\n",
    "\n",
    "\n",
    "  * Typing just `python` gives you an interactive Python shell.\n",
    "\n",
    "  * IPython (start with `ipython`) is better. It can also run scripts:\n",
    "```bash\n",
    "> ipython\n",
    "In [1]: run hw.py 3.14159\n",
    "```\n",
    "\n",
    "  * IPython supports tab completion, additional help commands, and much more, ...\n",
    "\n",
    "  * You can launch an IPython shell anywhere in the program with\n",
    "```python\n",
    "from IPython import embed; embed()\n",
    "```\n",
    "  * IPython comes integrated with an debugger (launch with `ipython ---pdb`)\n",
    "\n",
    "  * `pdb` is automatically invoked when an exception occurs "
   ]
  },
  {
   "cell_type": "markdown",
   "metadata": {
    "slideshow": {
     "slide_type": "slide"
    }
   },
   "source": [
    "# Python variables and data types"
   ]
  },
  {
   "cell_type": "markdown",
   "metadata": {
    "slideshow": {
     "slide_type": "subslide"
    }
   },
   "source": [
    "## Python variables\n",
    "\n",
    "* Variables are not declared\n",
    "* **Variables hold references to objects**"
   ]
  },
  {
   "cell_type": "markdown",
   "metadata": {
    "collapsed": false,
    "slideshow": {
     "slide_type": "fragment"
    }
   },
   "source": [
    "```python\n",
    "a = 3        # ref to an int object containing 3\n",
    "a = 3.0      # ref to a float object containing 3.0\n",
    "a = '3.'     # ref to a string object containing '3.'\n",
    "a = ['1', 2] # ref to a list object containing\n",
    "             # a string '1' and an integer 2\n",
    "```"
   ]
  },
  {
   "cell_type": "markdown",
   "metadata": {
    "slideshow": {
     "slide_type": "fragment"
    }
   },
   "source": [
    "Python is a strongy typed language. Test for a variable's type:\n",
    "\n",
    "```python\n",
    "if isinstance(a, int): # int?\n",
    "    <block of statements>\n",
    "if isinstance(a, (list, tuple)): # list or tuple?\n",
    "    <block of statements>\n",
    "```    "
   ]
  },
  {
   "cell_type": "markdown",
   "metadata": {
    "slideshow": {
     "slide_type": "subslide"
    }
   },
   "source": [
    "## Common types\n",
    "\n",
    "  * Numbers: \n",
    "    * `int`\n",
    "    * `float`\n",
    "    * `complex`\n",
    "\n",
    "  * Sequences: \n",
    "    * `str`\n",
    "    * `list`\n",
    "    * `tuple`\n",
    "    * `ndarray`\n",
    "\n",
    "  * Mappings: \n",
    "    * `dict` (dictionary/hash)\n",
    "\n",
    "  * User-defined \n",
    "    * `type` (via user-defined class)"
   ]
  },
  {
   "cell_type": "markdown",
   "metadata": {
    "slideshow": {
     "slide_type": "subslide"
    }
   },
   "source": [
    "## Simple Assignments\n",
    "\n",
    "```python\n",
    "a = 10        # a is a variable referencing an\n",
    "              # integer object of value 10\n",
    "\n",
    "b = True      # b is a boolean variable\n",
    "\n",
    "a = b         # a is now a boolean as well\n",
    "              # (referencing the same object as b)\n",
    "\n",
    "b = increment(4)   # b is the value returned by a function\n",
    "\n",
    "is_equal = a == b  # is_equal is True if a == b\n",
    "```"
   ]
  },
  {
   "cell_type": "markdown",
   "metadata": {
    "slideshow": {
     "slide_type": "subslide"
    }
   },
   "source": [
    "## Lists and tuples"
   ]
  },
  {
   "cell_type": "markdown",
   "metadata": {
    "collapsed": false,
    "slideshow": {
     "slide_type": "fragment"
    }
   },
   "source": [
    "### Lists\n",
    "```python\n",
    "mylist  = ['a string', 2.5, 6, 'another string']\n",
    "mylist[1]  = -10\n",
    "mylist.append('a third string')\n",
    "```"
   ]
  },
  {
   "cell_type": "markdown",
   "metadata": {
    "collapsed": false,
    "slideshow": {
     "slide_type": "fragment"
    }
   },
   "source": [
    "### Tuples\n",
    "A tuple is a constant list (known as an *immutable* object,\n",
    "contrary to *mutable* objects which can change their content)\n",
    "```python\n",
    "mytuple = ('a string', 2.5, 6, 'another string')\n",
    "mytuple = 'a string', 2.5, 6, 'another string'  # Shorter notation\n",
    "mytuple[1] = -10  # Error, tuple cannot be changed\n",
    "```"
   ]
  },
  {
   "cell_type": "markdown",
   "metadata": {
    "slideshow": {
     "slide_type": "subslide"
    }
   },
   "source": [
    "## List functionality\n",
    "\n",
    "| Construction               |   Meaning                                       |                                                                                                              \n",
    "|----------------------------|-------------------------------------------------|                                                                                                              \n",
    "| a = []                   | initialize an empty list                        |                                                                                                               \n",
    "| a = [1, 4.4, 'run.py']   | initialize a list                               |                                                                                                               \n",
    "| a.append(elem)           | add elem object to the end                    |                                                                                                               \n",
    "| a + [1,3]                | add two lists                                   |                                                                                                               \n",
    "| a.insert(i, e)           | insert element e before index i             |                                                                                                               \n",
    "| a[3]                     | index a list element                            |                                                                                                               \n",
    "| a[-1]                    | get last list element                           |                                                                                                              \n",
    "| a[1:3]                   | slice: return sublist (here: index 1, 2)  |                                                                                                               \n",
    "| del a[3]                 | delete an element (index 3)                   |                                                                                                              \n",
    "| a.remove(e)              | remove an element with value e                |                                                                                                               \n",
    "| a.index('run.py')        | find index corresponding to an element's value  |                                                                                                              \n",
    "| 'value' in a            | test if a value is contained in the list        |                                                                                                               \n",
    "| a.count(v)               | count how many elements have the value v |                                                                                                              \n",
    "| len(a)                   | number of elements in list a                  |                                                                                                               \n",
    "| min(a)                   | the smallest element in a                     |                                                                                                              \n",
    "| max(a)                   | the largest element in a                      |                                                                                                               \n",
    "| sum(a)                   | add all elements in a                         |                                                                                                              \n",
    "| sorted(a)                | return sorted version of list a               |                                                                                                               \n",
    "| reversed(a)              | return reversed sorted version of list a      |                                                                                                              \n",
    "| b[3][0][2]               | nested list indexing                            |                                                                                                               \n",
    "| isinstance(a, list)      | is True if a is a list                      |                                                                                                              \n",
    "| type(a) is list          | is True if a is a list                      |                                                                                                                "
   ]
  },
  {
   "cell_type": "markdown",
   "metadata": {
    "slideshow": {
     "slide_type": "subslide"
    }
   },
   "source": [
    "## Tuple functionality\n",
    "\n",
    "| Construction               |   Meaning                                       |                                                                                                              \n",
    "|----------------------------|-------------------------------------------------|                                                                                                              \n",
    "| a = ()                   | initialize an empty tuple                        |                                                                                                               \n",
    "| a = (1, 4.4, 'run.py')   | initialize a tuple                               |                                                                                                               \n",
    "| a + (1,3)                | add two tuples (returns a new tuple) |                                                                                                           \n",
    "| a[3]                     | index a list element                            |                                                                                                               \n",
    "| a[-1]                    | get last list element                           |                                                                                                              \n",
    "| a[1:3]                   | slice: return subtuple (here: index 1, 2)  |                                                                                                               \n",
    "| a.index('value')        | find index corresponding to an element's value  |                                                                                                              \n",
    "| 'value' in a            | test if a value is contained in the list        |                                                                                                               \n",
    "| a.count(v)               | count how many elements have the value v |                                                                                                              \n",
    "| len(a)                   | number of elements in list a                  |                                                                                                               \n",
    "| min(a)                   | the smallest element in a                     |                                                                                                              \n",
    "| max(a)                   | the largest element in a                      |                                                                                                               \n",
    "| sum(a)                   | add all elements in a                         |                                                                                                              \n",
    "| sorted(a)                | return sorted list with the values of a               |                                                                                                               \n",
    "| reversed(a)              | return reversed sorted version of a      |                                                                                                              \n",
    "| b[3][0][2]               | nested list indexing                            |                                                                                                               \n",
    "| isinstance(a, tuple)      | is True if a is a tuple                      |                                                                                                              \n",
    "| type(a) is tuple          | is True if a is a tuple                      |                                                                                                                "
   ]
  },
  {
   "cell_type": "markdown",
   "metadata": {
    "slideshow": {
     "slide_type": "subslide"
    }
   },
   "source": [
    "## Dictionaries\n",
    "\n",
    "Dictionaries can be viewed as lists with any immutable (constant) object\n",
    "as index. The elements of a dictionary (dict) are key-value pairs."
   ]
  },
  {
   "cell_type": "markdown",
   "metadata": {
    "collapsed": false,
    "slideshow": {
     "slide_type": "fragment"
    }
   },
   "source": [
    "```python\n",
    "mydict = {1: -4, 2: 3, 'somestring': [1,3,4]}\n",
    "otherdict = dict(name='John Doe', phone='99954329')\n",
    "# same as {'name': 'John Doe', 'phone': '99954329'}\n",
    "\n",
    "# Add new key-value pair\n",
    "mydict['somekey'] = 1.0\n",
    "\n",
    "mydict.update(otherdict)  # add/replace key-value pairs\n",
    "\n",
    "del mydict[2]\n",
    "del mydict['somekey']\n",
    "```"
   ]
  },
  {
   "cell_type": "markdown",
   "metadata": {
    "slideshow": {
     "slide_type": "subslide"
    }
   },
   "source": [
    "## Dictionary functionality\n",
    "\n",
    "\n",
    "| Construction                           | Meaning                                    |                                                                                                        \n",
    "|-------------------------------------------------------------------------------------|                                                                                                        \n",
    "| a = {}                               | initialize an empty dictionary             |                                                                                                        \n",
    "| a = {'point': [0,0.1], 'value': 7}   | initialize a dictionary                    |                                                                                                        \n",
    "| a = dict(point=[2,7], value=3)       | initialize a dictionary w/string keys      |                                                                                                        \n",
    "| a.update(b)                          | add key-value pairs from b in a |                                                                                                               \n",
    "| a.update(key1=value1, key2=value2)   | add key-value pairs in a          |                                                                                                               \n",
    "| a['hide'] = True                     | add new key-value pair to a              |                                                                                                        \n",
    "| a['point']                           | get value corresponding to key point     |                                                                                                        \n",
    "| for key in a:                        | loop over keys in unknown order            |                                                                                                        \n",
    "| for key in sorted(a):                | loop over keys in alphabetic order         |                                                                                                        \n",
    "| 'value' in a                         | True if string value is a key in a   |                                                                                                        \n",
    "| del a['point']                       | delete a key-value pair from a           |                                                                                                        \n",
    "| list(a.keys())                       | list of keys                               |                                                                                                        \n",
    "| list(a.values())                     | list of values                             |                                                                                                        \n",
    "| len(a)                               | number of key-value pairs in a           |                                                                                                        \n",
    "| isinstance(a, dict)                  | is True if a is a dictionary           |"
   ]
  },
  {
   "cell_type": "markdown",
   "metadata": {
    "slideshow": {
     "slide_type": "subslide"
    }
   },
   "source": [
    "## String operations"
   ]
  },
  {
   "cell_type": "code",
   "execution_count": 17,
   "metadata": {
    "collapsed": false,
    "slideshow": {
     "slide_type": "fragment"
    }
   },
   "outputs": [
    {
     "data": {
      "text/plain": [
       "'Fish, Cow, Crocodile'"
      ]
     },
     "execution_count": 17,
     "metadata": {},
     "output_type": "execute_result"
    }
   ],
   "source": [
    "s = 'Berlin: 18.4 C at 4 pm'  # create a string\n",
    "s[8:17]                       # extract substring\n",
    "':' in s                      # is ':' contained in s?\n",
    "s.find(':')                   # index where first ':' is found\n",
    "s.split(':')                  # split into substrings, returns list\n",
    "s.split()                     # split wrt whitespace, returns list\n",
    "'Berlin' in s                 # test if substring is in s\n",
    "s.replace('18.4', '20')       # replace all occurances\n",
    "s.lower()                     # lower case letters only\n",
    "s.upper()                     # upper case letters only\n",
    "s.split()[4].isdigit()        # check if 5th substring consist of digits\n",
    "s.strip()                     # remove leading/trailing blanks\n",
    "list_of_words = [\"Fish\", \"Cow\", \"Crocodile\"]\n",
    "', '.join(list_of_words)      # join the string elements of the list by a comma."
   ]
  },
  {
   "cell_type": "markdown",
   "metadata": {
    "slideshow": {
     "slide_type": "subslide"
    }
   },
   "source": [
    "## Strings in Python use single or double quotes, or triple single/double quotes\n",
    "\n",
    "Single- and double-quoted strings work in the same way: \n",
    "```python\n",
    "'some string'\n",
    "```\n",
    "is equivalent to \n",
    "```python\n",
    "\"some string\"\n",
    "```\n",
    "\n",
    "Triple-quoted strings can be multi line with embedded newlines:\n",
    "```python\n",
    "text = \"\"\"large portions of a text\n",
    "can be conveniently placed inside\n",
    "triple-quoted strings (newlines\n",
    "are preserved)\"\"\"\n",
    "```"
   ]
  },
  {
   "cell_type": "markdown",
   "metadata": {
    "slideshow": {
     "slide_type": "subslide"
    }
   },
   "source": [
    "## Strings with backslash "
   ]
  },
  {
   "cell_type": "markdown",
   "metadata": {
    "slideshow": {
     "slide_type": "-"
    }
   },
   "source": [
    "In an ordinary string one must quote backslash:"
   ]
  },
  {
   "cell_type": "code",
   "execution_count": 6,
   "metadata": {
    "collapsed": false,
    "slideshow": {
     "slide_type": "-"
    }
   },
   "outputs": [
    {
     "name": "stdout",
     "output_type": "stream",
     "text": [
      "\\(\\s+\\.\\d+\\)\n"
     ]
    }
   ],
   "source": [
    "s3 = '\\\\(\\\\s+\\\\.\\\\d+\\\\)'\n",
    "print(s3)"
   ]
  },
  {
   "cell_type": "markdown",
   "metadata": {
    "slideshow": {
     "slide_type": "fragment"
    }
   },
   "source": [
    "For raw strings backslash is backslash:\n",
    "    "
   ]
  },
  {
   "cell_type": "code",
   "execution_count": 7,
   "metadata": {
    "collapsed": false,
    "slideshow": {
     "slide_type": "-"
    }
   },
   "outputs": [
    {
     "name": "stdout",
     "output_type": "stream",
     "text": [
      "\\(\\s+\\.\\d+\\)\n"
     ]
    }
   ],
   "source": [
    "s3 = r'\\(\\s+\\.\\d+\\)'\n",
    "print(s3)"
   ]
  },
  {
   "cell_type": "markdown",
   "metadata": {
    "slideshow": {
     "slide_type": "slide"
    }
   },
   "source": [
    "# Control structures in Python"
   ]
  },
  {
   "cell_type": "markdown",
   "metadata": {
    "slideshow": {
     "slide_type": "subslide"
    }
   },
   "source": [
    "## Loops \n",
    "\n",
    "### `while` loop\n",
    "\n",
    "```python\n",
    "while condition:\n",
    "    <block of statements>\n",
    "```\n",
    "\n",
    "Here, `condition` must be a boolean expression (or have a boolean interpretation), for example: `i < 10` or `!found`\n",
    "\n",
    "### `for` loop\n",
    "\n",
    "\n",
    "```python\n",
    "for element in somelist:\n",
    "    <block of statements>\n",
    "```    \n",
    "\n",
    "Here, `somelist` must be a indexable object, for example a `list`, `tuple` or a `string`."
   ]
  },
  {
   "cell_type": "markdown",
   "metadata": {
    "slideshow": {
     "slide_type": "fragment"
    }
   },
   "source": [
    "**Important**: Python uses indentation to determine the start/end of blocks\n",
    "(instead of e.g. brackets). In Python, it is common to indent with 4 spaces."
   ]
  },
  {
   "cell_type": "markdown",
   "metadata": {
    "slideshow": {
     "slide_type": "subslide"
    }
   },
   "source": [
    "### Conditionals/branching:\n",
    "\n",
    "```python\n",
    "if condition:\n",
    "    <block of statements>\n",
    "elif condition:\n",
    "    <block of statements>\n",
    "else:\n",
    "    <block of statements>\n",
    "```    \n",
    "\n",
    "Also here, `condition` must be a boolean expression."
   ]
  },
  {
   "cell_type": "markdown",
   "metadata": {
    "slideshow": {
     "slide_type": "subslide"
    }
   },
   "source": [
    "## Looping over integer indices is done with `range`"
   ]
  },
  {
   "cell_type": "markdown",
   "metadata": {},
   "source": [
    "`range` allows us to iterate over a sequence of numbers:"
   ]
  },
  {
   "cell_type": "code",
   "execution_count": 19,
   "metadata": {
    "collapsed": false
   },
   "outputs": [
    {
     "name": "stdout",
     "output_type": "stream",
     "text": [
      "0\n",
      "1\n",
      "2\n"
     ]
    }
   ],
   "source": [
    "for i in range(3):\n",
    "    print(i)"
   ]
  },
  {
   "cell_type": "markdown",
   "metadata": {
    "slideshow": {
     "slide_type": "fragment"
    }
   },
   "source": [
    "**Remark:** `range` in Pyton 3.x is equal to `xrange` in Python\n",
    "2.x and generates an *iterator* over integers, while `range` in\n",
    "Python 2.x returns a list of integers."
   ]
  },
  {
   "cell_type": "markdown",
   "metadata": {
    "slideshow": {
     "slide_type": "subslide"
    }
   },
   "source": [
    "## Example: printing list values together with their index"
   ]
  },
  {
   "cell_type": "code",
   "execution_count": 23,
   "metadata": {
    "collapsed": false,
    "slideshow": {
     "slide_type": "-"
    }
   },
   "outputs": [
    {
     "name": "stdout",
     "output_type": "stream",
     "text": [
      "0 Hello\n",
      "1 Sam\n",
      "2 !\n"
     ]
    }
   ],
   "source": [
    "mylist = [\"Hello\", \"Sam\", \"!\"]\n",
    "for i in range(3):\n",
    "    print(i, end=\" \") \n",
    "    print(mylist[i])"
   ]
  },
  {
   "cell_type": "markdown",
   "metadata": {
    "slideshow": {
     "slide_type": "fragment"
    }
   },
   "source": [
    "Better: use `enumerate`:"
   ]
  },
  {
   "cell_type": "code",
   "execution_count": 24,
   "metadata": {
    "collapsed": false,
    "slideshow": {
     "slide_type": "-"
    }
   },
   "outputs": [
    {
     "name": "stdout",
     "output_type": "stream",
     "text": [
      "0 Hello\n",
      "1 Sam\n",
      "2 !\n"
     ]
    }
   ],
   "source": [
    "mylist = [\"Hello\", \"Sam\", \"!\"]\n",
    "for index, element in enumerate(mylist):\n",
    "    print(index, element)"
   ]
  },
  {
   "cell_type": "markdown",
   "metadata": {
    "slideshow": {
     "slide_type": "subslide"
    }
   },
   "source": [
    "## Examples on loops and branching"
   ]
  },
  {
   "cell_type": "code",
   "execution_count": 25,
   "metadata": {
    "collapsed": false,
    "slideshow": {
     "slide_type": "fragment"
    }
   },
   "outputs": [
    {
     "name": "stdout",
     "output_type": "stream",
     "text": [
      "new x: 1.0\n",
      "new x: 2.0\n",
      "new x: 4.0\n",
      "new x: 7.0\n",
      "loop is over\n"
     ]
    }
   ],
   "source": [
    "x = 0\n",
    "dx = 1.0\n",
    "while x < 6:\n",
    "    if x < 2:\n",
    "        x += dx\n",
    "    elif 2 <= x < 4:\n",
    "        x += 2*dx\n",
    "    else:\n",
    "        x += 3*dx\n",
    "    print('new x:', x)\n",
    "print('loop is over')"
   ]
  },
  {
   "cell_type": "markdown",
   "metadata": {
    "slideshow": {
     "slide_type": "subslide"
    }
   },
   "source": [
    "## `break` and `continue`"
   ]
  },
  {
   "cell_type": "markdown",
   "metadata": {},
   "source": [
    "`break` terminates the current loop and resumes execution at the next statement."
   ]
  },
  {
   "cell_type": "code",
   "execution_count": 31,
   "metadata": {
    "collapsed": false
   },
   "outputs": [
    {
     "name": "stdout",
     "output_type": "stream",
     "text": [
      "Current Letter : H\n",
      "Current Letter : e\n"
     ]
    }
   ],
   "source": [
    "for character in 'Hello':     \n",
    "   if character == 'l':\n",
    "      break\n",
    "   print('Current Letter :', character)"
   ]
  },
  {
   "cell_type": "markdown",
   "metadata": {
    "slideshow": {
     "slide_type": "fragment"
    }
   },
   "source": [
    "`continue` returns the control to the beginning of the while loop."
   ]
  },
  {
   "cell_type": "code",
   "execution_count": 32,
   "metadata": {
    "collapsed": false
   },
   "outputs": [
    {
     "name": "stdout",
     "output_type": "stream",
     "text": [
      "Current Letter : H\n",
      "Current Letter : e\n",
      "Current Letter : o\n"
     ]
    }
   ],
   "source": [
    "for character in 'Hello':     \n",
    "   if character == 'l':\n",
    "      continue\n",
    "   print('Current Letter :', character)"
   ]
  },
  {
   "cell_type": "markdown",
   "metadata": {
    "slideshow": {
     "slide_type": "subslide"
    }
   },
   "source": [
    "## List comprehensions enable compact loop syntax"
   ]
  },
  {
   "cell_type": "markdown",
   "metadata": {
    "slideshow": {
     "slide_type": "-"
    }
   },
   "source": [
    "Classic Java/C-style code, expressed in Python:"
   ]
  },
  {
   "cell_type": "code",
   "execution_count": 34,
   "metadata": {
    "collapsed": false,
    "slideshow": {
     "slide_type": "-"
    }
   },
   "outputs": [],
   "source": [
    "a = [0, 5, -3, 6]\n",
    "b = [0]*len(a)               # allocate b list\n",
    "for i in range(len(a)):      # iterate over indices\n",
    "    b[i] = a[i]**2"
   ]
  },
  {
   "cell_type": "markdown",
   "metadata": {
    "slideshow": {
     "slide_type": "fragment"
    }
   },
   "source": [
    "Pythonic version #1:"
   ]
  },
  {
   "cell_type": "code",
   "execution_count": 38,
   "metadata": {
    "collapsed": false,
    "slideshow": {
     "slide_type": "-"
    }
   },
   "outputs": [],
   "source": [
    "b = []\n",
    "for element in a:\n",
    "    b.append(element**2)"
   ]
  },
  {
   "cell_type": "markdown",
   "metadata": {
    "slideshow": {
     "slide_type": "fragment"
    }
   },
   "source": [
    "Pythonic version #2:"
   ]
  },
  {
   "cell_type": "code",
   "execution_count": 33,
   "metadata": {
    "collapsed": false,
    "slideshow": {
     "slide_type": "-"
    }
   },
   "outputs": [],
   "source": [
    "a = [0, 5, -3, 6]\n",
    "b = [element**2 for element in a]   # list comprehension"
   ]
  },
  {
   "cell_type": "markdown",
   "metadata": {
    "slideshow": {
     "slide_type": "slide"
    }
   },
   "source": [
    "# Functions and arguments"
   ]
  },
  {
   "cell_type": "markdown",
   "metadata": {
    "slideshow": {
     "slide_type": "subslide"
    }
   },
   "source": [
    "## Example of an user-defined functions"
   ]
  },
  {
   "cell_type": "code",
   "execution_count": 41,
   "metadata": {
    "collapsed": false,
    "slideshow": {
     "slide_type": "-"
    }
   },
   "outputs": [
    {
     "name": "stdout",
     "output_type": "stream",
     "text": [
      "('Hei', 'sann')\n"
     ]
    }
   ],
   "source": [
    "def split(string, char):\n",
    "    \"\"\" Split the string at the given character \"\"\"\n",
    "    position = string.find(char)\n",
    "    if  position > 0:\n",
    "        return string[:position+1], string[position+1:]\n",
    "    else:\n",
    "        return string, ''\n",
    "\n",
    "message = 'Heisann'\n",
    "result = split(message, 'i') # Call our function\n",
    "print(result)"
   ]
  },
  {
   "cell_type": "markdown",
   "metadata": {
    "slideshow": {
     "slide_type": "subslide"
    }
   },
   "source": [
    "## Syntax"
   ]
  },
  {
   "cell_type": "markdown",
   "metadata": {
    "slideshow": {
     "slide_type": "-"
    }
   },
   "source": [
    "### Defining Functions\n",
    "```python\n",
    "def functionname(arg1, arg2=\"default\", arg3=1.0, ...):\n",
    "   \"Docstring\"\n",
    "   <block of statements>\n",
    "   return [expression]\n",
    "```"
   ]
  },
  {
   "cell_type": "markdown",
   "metadata": {
    "slideshow": {
     "slide_type": "fragment"
    }
   },
   "source": [
    "### Calling functions\n",
    "\n",
    "```python\n",
    "functionname(1.0, \"x\", \"i\")\n",
    "```\n",
    "is the same as\n",
    "```python\n",
    "functionname(arg1=1.0, arg2=\"x\", arg2=\"i\")\n",
    "```\n",
    "\n",
    "Default arguments can be left out:\n",
    "```python\n",
    "functionname(1.0, args3=\"i\") \n",
    "```\n",
    "\n",
    "Positional arguments must appear before keyword arguments:\n",
    "\n",
    "```python\n",
    "functionname(arg3='i', \"x\") # invalid\n",
    "```"
   ]
  },
  {
   "cell_type": "markdown",
   "metadata": {
    "slideshow": {
     "slide_type": "subslide"
    }
   },
   "source": [
    "## Variable number of arguments\n",
    "\n",
    "Some function take a variable numer of arguments:"
   ]
  },
  {
   "cell_type": "code",
   "execution_count": 2,
   "metadata": {
    "collapsed": false
   },
   "outputs": [
    {
     "data": {
      "text/plain": [
       "6"
      ]
     },
     "execution_count": 2,
     "metadata": {},
     "output_type": "execute_result"
    }
   ],
   "source": [
    "max(1, 6)\n",
    "max(1, 2, 6, 2)"
   ]
  },
  {
   "cell_type": "markdown",
   "metadata": {
    "slideshow": {
     "slide_type": "fragment"
    }
   },
   "source": [
    "We implement this by adding a special arguments at the end with the prefix `*`:"
   ]
  },
  {
   "cell_type": "code",
   "execution_count": 21,
   "metadata": {
    "collapsed": false
   },
   "outputs": [
    {
     "name": "stdout",
     "output_type": "stream",
     "text": [
      "The maximum of (1, 5, 6, 3) is 6.\n"
     ]
    }
   ],
   "source": [
    "def printmax(firstnumber, *args):\n",
    "    # args is a tuple of all remaining arguments\n",
    "    print(\"The maximum of {} is {}.\".format(tuple([firstnumber])+args, max(firstnumber, *args)))\n",
    "\n",
    "printmax(1, 5, 6, 3)    "
   ]
  },
  {
   "cell_type": "markdown",
   "metadata": {
    "slideshow": {
     "slide_type": "subslide"
    }
   },
   "source": [
    "## Variable number of keyword arguments"
   ]
  },
  {
   "cell_type": "markdown",
   "metadata": {
    "slideshow": {
     "slide_type": "fragment"
    }
   },
   "source": [
    "This works similarily for keywords arguments if the special prefix `**` is used:"
   ]
  },
  {
   "cell_type": "code",
   "execution_count": 30,
   "metadata": {
    "collapsed": false
   },
   "outputs": [
    {
     "name": "stdout",
     "output_type": "stream",
     "text": [
      "Keyword arguments: {'a': 1, 'b': 'b', 'c': True}\n"
     ]
    }
   ],
   "source": [
    "def somefunc(**kwargs):\n",
    "    # kwargs is a dictionary of all keyword arguments\n",
    "    print(\"Keyword arguments: {}\".format(kwargs))\n",
    "\n",
    "somefunc(a=1, b=\"b\", c=True)"
   ]
  },
  {
   "cell_type": "markdown",
   "metadata": {
    "slideshow": {
     "slide_type": "subslide"
    }
   },
   "source": [
    "# Multiple return values"
   ]
  },
  {
   "cell_type": "markdown",
   "metadata": {},
   "source": [
    "Often it is usefull to return multiple values in a function. This is achieved by packing the return values into a tuple:"
   ]
  },
  {
   "cell_type": "code",
   "execution_count": 38,
   "metadata": {
    "collapsed": true
   },
   "outputs": [],
   "source": [
    "def coordinates():\n",
    "    x = 1\n",
    "    y = 2\n",
    "    return x, y  # Note: Short notation for tuple([x, y])"
   ]
  },
  {
   "cell_type": "code",
   "execution_count": 39,
   "metadata": {
    "collapsed": false,
    "slideshow": {
     "slide_type": "fragment"
    }
   },
   "outputs": [],
   "source": [
    "myx, myy = coordinates()   # Note: Python automatically \"unpacks\" the tuple entries"
   ]
  },
  {
   "cell_type": "markdown",
   "metadata": {
    "slideshow": {
     "slide_type": "subslide"
    }
   },
   "source": [
    "##  Document your functions using docstrings"
   ]
  },
  {
   "cell_type": "markdown",
   "metadata": {},
   "source": [
    "The first string in a function definition is interpreted as a documentation string in Python."
   ]
  },
  {
   "cell_type": "code",
   "execution_count": 29,
   "metadata": {
    "collapsed": true
   },
   "outputs": [],
   "source": [
    "def function_with_types_in_docstring(param1, param2):\n",
    "    \"\"\"Example function with types documented in the docstring.\n",
    "\n",
    "    Args:\n",
    "        param1 (int): The first parameter.\n",
    "        param2 (str): The second parameter.\n",
    "\n",
    "    Returns:\n",
    "        bool: The return value. True for success, False otherwise.\n",
    "    \"\"\"\n",
    "    pass"
   ]
  },
  {
   "cell_type": "markdown",
   "metadata": {
    "slideshow": {
     "slide_type": "subslide"
    }
   },
   "source": [
    "## Doc strings serve many purposes\n",
    "\n",
    " * Documentation in the source code\n",
    " * Online documentation\n",
    "   (Sphinx can automatically produce manuals with doc strings)\n",
    " * Balloon help in sophisticated GUIs (e.g., IDLE)\n",
    " * Automatic testing with the [`doctest`](https://docs.python.org/2/library/doctest.html?highlight=doctest#doctest) module\n",
    " * Interactive documentation in Ipython:"
   ]
  },
  {
   "cell_type": "code",
   "execution_count": 41,
   "metadata": {
    "collapsed": false
   },
   "outputs": [],
   "source": [
    "function_with_types_in_docstring?"
   ]
  },
  {
   "cell_type": "markdown",
   "metadata": {
    "slideshow": {
     "slide_type": "slide"
    }
   },
   "source": [
    "# `eval` and `exec`: turning strings into live code"
   ]
  },
  {
   "cell_type": "markdown",
   "metadata": {
    "slideshow": {
     "slide_type": "fragment"
    }
   },
   "source": [
    "### `eval` evaluates a string expression"
   ]
  },
  {
   "cell_type": "code",
   "execution_count": 45,
   "metadata": {
    "collapsed": false,
    "slideshow": {
     "slide_type": "-"
    }
   },
   "outputs": [
    {
     "data": {
      "text/plain": [
       "21.1"
      ]
     },
     "execution_count": 45,
     "metadata": {},
     "output_type": "execute_result"
    }
   ],
   "source": [
    "x = 20\n",
    "r = eval('x + 1.1')\n",
    "r"
   ]
  },
  {
   "cell_type": "code",
   "execution_count": 46,
   "metadata": {
    "collapsed": false,
    "slideshow": {
     "slide_type": "-"
    }
   },
   "outputs": [
    {
     "data": {
      "text/plain": [
       "float"
      ]
     },
     "execution_count": 46,
     "metadata": {},
     "output_type": "execute_result"
    }
   ],
   "source": [
    "type(r)"
   ]
  },
  {
   "cell_type": "markdown",
   "metadata": {
    "slideshow": {
     "slide_type": "fragment"
    }
   },
   "source": [
    "*Note*:\n",
    "* `eval` returns the evaluation of the expression.\n",
    "* `eval` only works for a single expression (whatever you can have on the right-hand side of a variable assignment)"
   ]
  },
  {
   "cell_type": "markdown",
   "metadata": {
    "slideshow": {
     "slide_type": "subslide"
    }
   },
   "source": [
    "## `exec` executes strings with Python code"
   ]
  },
  {
   "cell_type": "code",
   "execution_count": 42,
   "metadata": {
    "collapsed": false
   },
   "outputs": [
    {
     "name": "stdout",
     "output_type": "stream",
     "text": [
      "2.718281828459045\n"
     ]
    }
   ],
   "source": [
    "import sys\n",
    "from math import exp\n",
    "user_expression = \"exp(x)\"\n",
    "\n",
    "# Wrap user_expression in a Python function\n",
    "# (assuming the expression involves x)\n",
    "\n",
    "exec(\"\"\"\n",
    "def f(x):\n",
    "    return {0}\n",
    "\"\"\".format(user_expression))\n",
    "\n",
    "print(f(1))"
   ]
  },
  {
   "cell_type": "markdown",
   "metadata": {},
   "source": [
    "*Note*: \n",
    "  * `exec` ignores the return value from its code, and always returns None"
   ]
  },
  {
   "cell_type": "markdown",
   "metadata": {
    "slideshow": {
     "slide_type": "slide"
    }
   },
   "source": [
    "# In-/Ouput in Python"
   ]
  },
  {
   "cell_type": "markdown",
   "metadata": {
    "slideshow": {
     "slide_type": "subslide"
    }
   },
   "source": [
    "## Basic file reading (1)"
   ]
  },
  {
   "cell_type": "markdown",
   "metadata": {},
   "source": [
    "Open the file:\n",
    "```python\n",
    "infile = open(filename, 'r')\n",
    "```"
   ]
  },
  {
   "cell_type": "markdown",
   "metadata": {
    "slideshow": {
     "slide_type": "fragment"
    }
   },
   "source": [
    "Read the file:\n",
    "```python\n",
    "for line in infile:\n",
    "    # process line\n",
    "```"
   ]
  },
  {
   "cell_type": "markdown",
   "metadata": {
    "slideshow": {
     "slide_type": "fragment"
    }
   },
   "source": [
    "or\n",
    "```python\n",
    "lines = infile.readlines()\n",
    "for line in lines:\n",
    "    # process line\n",
    "```"
   ]
  },
  {
   "cell_type": "markdown",
   "metadata": {
    "slideshow": {
     "slide_type": "subslide"
    }
   },
   "source": [
    "## Basic file reading (2)"
   ]
  },
  {
   "cell_type": "markdown",
   "metadata": {},
   "source": [
    "or\n",
    "```python\n",
    "for i in range(len(lines)):\n",
    "    # process lines[i] and perhaps next line lines[i+1]\n",
    "```"
   ]
  },
  {
   "cell_type": "markdown",
   "metadata": {
    "slideshow": {
     "slide_type": "fragment"
    }
   },
   "source": [
    "or\n",
    "```python\n",
    "fstr = infile.read()  # fstr contains the entire file\n",
    "fstr = fstr.replace('some', 'another')\n",
    "for piece in fstr.split(';'):\n",
    "    # process piece (separated by ;)\n",
    "```"
   ]
  },
  {
   "cell_type": "markdown",
   "metadata": {
    "collapsed": false,
    "slideshow": {
     "slide_type": "fragment"
    }
   },
   "source": [
    "After usage, always close the file with \n",
    "```python\n",
    "infile.close()\n",
    "```"
   ]
  },
  {
   "cell_type": "markdown",
   "metadata": {
    "slideshow": {
     "slide_type": "subslide"
    }
   },
   "source": [
    "## Basic file writing"
   ]
  },
  {
   "cell_type": "markdown",
   "metadata": {},
   "source": [
    "Open the file for writing\n",
    "```python\n",
    "outfile = open(filename, 'w')   # new file or overwrite\n",
    "# or\n",
    "outfile = open(filename, 'a')   # append to existing file\n",
    "```"
   ]
  },
  {
   "cell_type": "markdown",
   "metadata": {
    "collapsed": false,
    "slideshow": {
     "slide_type": "fragment"
    }
   },
   "source": [
    "Write to the file with\n",
    "```python\n",
    "outfile.write(\"\"\"Some long string\n",
    "\"\"\")\n",
    "```\n",
    "or\n",
    "```python\n",
    "outfile.writelines(list_of_lines)\n",
    "```\n",
    "When finished with writing, always close the file with:\n",
    "```python\n",
    "outfile.close()\n",
    "```"
   ]
  },
  {
   "cell_type": "markdown",
   "metadata": {
    "slideshow": {
     "slide_type": "slide"
    }
   },
   "source": [
    "# Modules and packages"
   ]
  },
  {
   "cell_type": "markdown",
   "metadata": {
    "slideshow": {
     "slide_type": "subslide"
    }
   },
   "source": [
    "## Use modules to organize your program logically"
   ]
  },
  {
   "cell_type": "markdown",
   "metadata": {
    "slideshow": {
     "slide_type": "fragment"
    }
   },
   "source": [
    "### What is a Python module?\n",
    "A module is a file consisting of Python code. A module can define functions, classes and variables. A module can also include runnable code."
   ]
  },
  {
   "cell_type": "markdown",
   "metadata": {
    "slideshow": {
     "slide_type": "fragment"
    }
   },
   "source": [
    "### What is it good for?\n",
    "  * Split the code into several files for easier maintenance.\n",
    "  * Group related code into a module.\n",
    "  * Share common code between scripts.\n",
    "  * Publish modules on the web for other people to use."
   ]
  },
  {
   "cell_type": "markdown",
   "metadata": {
    "slideshow": {
     "slide_type": "subslide"
    }
   },
   "source": [
    "## Using modules\n",
    "\n",
    "Import the module called `sys` and access its `argv` variable:\n",
    "\n",
    "```python\n",
    "import sys\n",
    "x = float(sys.argv[1])\n",
    "```"
   ]
  },
  {
   "cell_type": "markdown",
   "metadata": {
    "slideshow": {
     "slide_type": "fragment"
    }
   },
   "source": [
    "Import module member `argv` into current namespace:\n",
    "\n",
    "```python\n",
    "from sys import argv\n",
    "x = float(argv[1])\n",
    "```"
   ]
  },
  {
   "cell_type": "markdown",
   "metadata": {
    "slideshow": {
     "slide_type": "fragment"
    }
   },
   "source": [
    "Import everything from `sys` (not recommended)\n",
    "\n",
    "```python\n",
    "from sys import *\n",
    "x = float(argv[1])\n",
    "\n",
    "flags = ''\n",
    "# Ooops, flags was also imported from sys, this new flags\n",
    "# name overwrites sys.flags!\n",
    "```"
   ]
  },
  {
   "cell_type": "markdown",
   "metadata": {
    "slideshow": {
     "slide_type": "fragment"
    }
   },
   "source": [
    "Import `argv` under an alias:\n",
    "\n",
    "```python\n",
    "from sys import argv as a\n",
    "x = float(a[1])\n",
    "```"
   ]
  },
  {
   "cell_type": "markdown",
   "metadata": {
    "slideshow": {
     "slide_type": "subslide"
    }
   },
   "source": [
    "## Making your own Python modules\n",
    "\n",
    "\n",
    " * Reuse scripts by wrapping them in classes or functions\n",
    "\n",
    " * Collect classes and functions in library modules\n",
    "\n",
    " * How? just put classes and functions in a file `MyMod.py`\n",
    "\n",
    " * Put `MyMod.py` in one of the directories where Python can find it\n",
    "   (see next slide)\n",
    "\n",
    "Examples:\n",
    "\n",
    "```python\n",
    "import MyMod\n",
    "# or\n",
    "import MyMod as M   # M is a short form\n",
    "# or\n",
    "from MyMod import *\n",
    "# or\n",
    "from MyMod import myspecialfunction, myotherspecialfunction\n",
    "```"
   ]
  },
  {
   "cell_type": "markdown",
   "metadata": {
    "slideshow": {
     "slide_type": "subslide"
    }
   },
   "source": [
    "## Document your module using docstrings"
   ]
  },
  {
   "cell_type": "code",
   "execution_count": 18,
   "metadata": {
    "collapsed": false,
    "slideshow": {
     "slide_type": "-"
    }
   },
   "outputs": [],
   "source": [
    "\"\"\"\n",
    "This module exemplifyies multi-line\n",
    "doc strings.\n",
    "\"\"\"\n",
    "import sys\n",
    "import collections\n",
    "\n",
    "def somefunc():\n",
    "    \"\"\" Function documentation \"\"\"\n",
    "    ..."
   ]
  },
  {
   "cell_type": "markdown",
   "metadata": {
    "slideshow": {
     "slide_type": "subslide"
    }
   },
   "source": [
    "## How does Python find your modules?\n",
    "\n",
    "\n",
    "Python has some \"official\" module directories, typically\n",
    "\n",
    "* `/usr/lib/python3.5`\n",
    "* `/usr/lib/python3.5/site-packages`\n",
    "* current working directory\n",
    "\n",
    "The environment variable `PYTHONPATH` may contain additional\n",
    "directories with modules\n",
    "\n",
    "```bash\n",
    "> echo $PYTHONPATH\n",
    "/home/simon/src/cbc.block:/home/simon/src/shape-optimisation:/home/simon/src/uptide:/home/simon/src/OpenTidalFarm:\n",
    "```\n",
    "\n",
    "Python's `sys.path` list contains the directories where Python\n",
    "searches for modules, and\n",
    "`sys.path` contains \"official\" directories, plus those in `PYTHONPATH`"
   ]
  },
  {
   "cell_type": "markdown",
   "metadata": {
    "slideshow": {
     "slide_type": "subslide"
    }
   },
   "source": [
    "## Search path for modules can be set in the script\n",
    "\n",
    "Add module path(s) directly to the `sys.path` list:"
   ]
  },
  {
   "cell_type": "code",
   "execution_count": null,
   "metadata": {
    "collapsed": false,
    "slideshow": {
     "slide_type": "fragment"
    }
   },
   "outputs": [],
   "source": [
    "import sys, os\n",
    "sys.path.insert(0, os.path.join(os.environ['HOME'], 'python', 'lib'))\n",
    "\n",
    "# ...\n",
    "import MyMod"
   ]
  },
  {
   "cell_type": "markdown",
   "metadata": {
    "slideshow": {
     "slide_type": "subslide"
    }
   },
   "source": [
    "## Packages (1)\n",
    "\n",
    " * A set of modules can be collected in a *package*\n",
    "\n",
    " * A package is organized as module files in a directory tree\n",
    "\n",
    " * Each subdirectory has a file `__init__.py` (can be empty)\n",
    "\n",
    " * Documentation: [Section 6 in the Python Tutorial](https://docs.python.org/3/tutorial/modules.html)"
   ]
  },
  {
   "cell_type": "markdown",
   "metadata": {
    "slideshow": {
     "slide_type": "subslide"
    }
   },
   "source": [
    "## Packages (2)\n",
    "\n",
    "Example directory tree:"
   ]
  },
  {
   "cell_type": "markdown",
   "metadata": {
    "slideshow": {
     "slide_type": "-"
    }
   },
   "source": [
    "```bash\n",
    "MyMod\n",
    "   __init__.py\n",
    "   numerics\n",
    "       __init__.py\n",
    "       pde\n",
    "           __init__.py\n",
    "           grids.py     # contains fdm_grids object\n",
    "```"
   ]
  },
  {
   "cell_type": "markdown",
   "metadata": {
    "slideshow": {
     "slide_type": "fragment"
    }
   },
   "source": [
    "Can import modules in the tree like this:"
   ]
  },
  {
   "cell_type": "markdown",
   "metadata": {
    "collapsed": false,
    "slideshow": {
     "slide_type": "-"
    }
   },
   "source": [
    "```python\n",
    "from MyMod.numerics.pde.grids import fdm_grids\n",
    "\n",
    "grid = fdm_grids()\n",
    "grid.domain(xmin=0, xmax=1, ymin=0, ymax=1)\n",
    "...\n",
    "```"
   ]
  },
  {
   "cell_type": "markdown",
   "metadata": {
    "slideshow": {
     "slide_type": "subslide"
    }
   },
   "source": [
    "## Test block in a module\n",
    "\n",
    "\n",
    "Module files can have a test/demo section at the end:"
   ]
  },
  {
   "cell_type": "code",
   "execution_count": 42,
   "metadata": {
    "collapsed": false,
    "slideshow": {
     "slide_type": "-"
    }
   },
   "outputs": [],
   "source": [
    "if __name__ == '__main__':\n",
    "    infile = sys.argv[1]; outfile = sys.argv[2]\n",
    "    for i in sys.argv[3:]:\n",
    "        create(infile, outfile, i)"
   ]
  },
  {
   "cell_type": "markdown",
   "metadata": {
    "slideshow": {
     "slide_type": "fragment"
    }
   },
   "source": [
    "* The block is executed *only if* the module file is run as a program (not if imported by another script)\n",
    "* The tests at the end of a module often serve as good examples on the usage of the module"
   ]
  },
  {
   "cell_type": "markdown",
   "metadata": {
    "slideshow": {
     "slide_type": "subslide"
    }
   },
   "source": [
    "## Public/non-public module variables\n",
    "\n",
    "Python convention: add a leading underscore to non-public functions and (module) variables"
   ]
  },
  {
   "cell_type": "code",
   "execution_count": 43,
   "metadata": {
    "collapsed": false,
    "slideshow": {
     "slide_type": "-"
    }
   },
   "outputs": [],
   "source": [
    "_counter = 0\n",
    "\n",
    "def _filename():\n",
    "    \"\"\"Generate a random filename.\"\"\"\n",
    "    ..."
   ]
  },
  {
   "cell_type": "markdown",
   "metadata": {
    "slideshow": {
     "slide_type": "subslide"
    }
   },
   "source": [
    "## Public/non-public module variables\n",
    "After a `from MyMod import *` the names with leading underscore are *not* available:"
   ]
  },
  {
   "cell_type": "code",
   "execution_count": null,
   "metadata": {
    "collapsed": false,
    "slideshow": {
     "slide_type": "-"
    }
   },
   "outputs": [],
   "source": [
    "from MyMod import *\n",
    "_counter # not available"
   ]
  },
  {
   "cell_type": "code",
   "execution_count": null,
   "metadata": {
    "collapsed": false,
    "slideshow": {
     "slide_type": "fragment"
    }
   },
   "outputs": [],
   "source": [
    "_filename() # not available"
   ]
  },
  {
   "cell_type": "markdown",
   "metadata": {
    "slideshow": {
     "slide_type": "fragment"
    }
   },
   "source": [
    "But with `import MyMod` and `MyMod.` prefix we get access to the\n",
    "non-public variables:"
   ]
  },
  {
   "cell_type": "code",
   "execution_count": null,
   "metadata": {
    "collapsed": false,
    "slideshow": {
     "slide_type": "fragment"
    }
   },
   "outputs": [],
   "source": [
    "import MyMod\n",
    "MyMod._counter = 42\n",
    "MyMod._counter # 42"
   ]
  },
  {
   "cell_type": "code",
   "execution_count": null,
   "metadata": {
    "collapsed": false,
    "slideshow": {
     "slide_type": "fragment"
    }
   },
   "outputs": [],
   "source": [
    "MyMod._filename()"
   ]
  },
  {
   "cell_type": "markdown",
   "metadata": {
    "slideshow": {
     "slide_type": "subslide"
    }
   },
   "source": [
    "## Installing modules\n",
    "\n",
    " * Python has its own tool, [Distutils](https://docs.python.org/3/library/distutils.html), for distributing and installing modules.\n",
    " * Alternatively, one can use the more modern alternative [setuptools](https://setuptools.readthedocs.io).\n",
    " * Installation is based on the script `setup.py`"
   ]
  },
  {
   "cell_type": "markdown",
   "metadata": {
    "slideshow": {
     "slide_type": "-"
    }
   },
   "source": [
    "Standard command for installing Python software with `setup.py` file:\n",
    "```bash\n",
    "> sudo python setup.py install\n",
    "```"
   ]
  },
  {
   "cell_type": "markdown",
   "metadata": {
    "slideshow": {
     "slide_type": "fragment"
    }
   },
   "source": [
    "**Notice.** \n",
    "If your package contains Python modules and extension modules written\n",
    "in C, the latter will be automatically compiled (using the same compiler\n",
    "and options as used for Python itself when it was installed)."
   ]
  },
  {
   "cell_type": "markdown",
   "metadata": {
    "slideshow": {
     "slide_type": "subslide"
    }
   },
   "source": [
    "## Controlling the installation destination\n",
    "\n",
    "\n",
    "`setup.py` has many options, see the [Installing Python modules](https://docs.python.org/3/installing/index.html#installing-index)\n",
    "\n",
    "Install in some user-chosen local directory (no need for `sudo` now):"
   ]
  },
  {
   "cell_type": "markdown",
   "metadata": {
    "slideshow": {
     "slide_type": "fragment"
    }
   },
   "source": [
    "```bash\n",
    "> python setup.py install --prefix=$HOME/install\n",
    "#copies modules  to $HOME/install/lib/python3.5/site-packages\n",
    "#copies programs to $HOME/install/bin\n",
    "```"
   ]
  },
  {
   "cell_type": "markdown",
   "metadata": {
    "slideshow": {
     "slide_type": "fragment"
    }
   },
   "source": [
    "Make sure that\n",
    "\n",
    " * `$HOME/install/lib/python3.5/site-packages` is in your `PYTHONPATH`\n",
    "\n",
    " * `$HOME/install/bin` is in your `PATH`\n",
    "\n"
   ]
  },
  {
   "cell_type": "markdown",
   "metadata": {
    "slideshow": {
     "slide_type": "fragment"
    }
   },
   "source": [
    "If not, add to `$HOME/.bashrc` file:\n",
    "```bash\n",
    "export PATH=$HOME/install/bin:$PATH\n",
    "export PYTHONPATH=$HOME/install/lib/python3.5/site-packages:$PYTHONPATH\n",
    "```\n"
   ]
  },
  {
   "cell_type": "markdown",
   "metadata": {
    "slideshow": {
     "slide_type": "subslide"
    }
   },
   "source": [
    "## Writing your own `setup.py` script\n",
    "\n",
    "Suppose you have a module in `mymod.py` that you want to distribute to others\n",
    "such that they can easily install it by `setup.py install`. \n",
    "\n",
    "Create a `setup.py`\n",
    "file with following content:\n",
    "```python\n",
    "from distutils.core import setup\n",
    "name='mymod'\n",
    "\n",
    "setup(name=name,\n",
    "      version='0.1',\n",
    "      py_modules=[name],       # modules to be installed\n",
    "      scripts=[name + '.py'],  # programs to be installed\n",
    "      )\n",
    "```"
   ]
  },
  {
   "cell_type": "markdown",
   "metadata": {
    "slideshow": {
     "slide_type": "fragment"
    }
   },
   "source": [
    "Now, `mymod` will be installed both as a module and as an\n",
    "executable script (if it has a test block with sensible code).\n",
    "\n",
    "Can easily be extended to install a package of modules, see\n",
    "the [introduction to Distutils](https://docs.python.org/3/distutils/index.html)"
   ]
  }
 ],
 "metadata": {
  "celltoolbar": "Slideshow",
  "kernelspec": {
   "display_name": "Python 3",
   "language": "python",
   "name": "python3"
  },
  "language_info": {
   "codemirror_mode": {
    "name": "ipython",
    "version": 3
   },
   "file_extension": ".py",
   "mimetype": "text/x-python",
   "name": "python",
   "nbconvert_exporter": "python",
   "pygments_lexer": "ipython3",
   "version": "3.5.2"
  },
  "livereveal": {
   "scroll": true,
   "start_slideshow_at": "selected",
   "theme": "serif"
  }
 },
 "nbformat": 4,
 "nbformat_minor": 0
}
