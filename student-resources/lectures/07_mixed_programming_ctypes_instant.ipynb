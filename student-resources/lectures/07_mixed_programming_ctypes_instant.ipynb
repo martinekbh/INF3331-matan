{
 "cells": [
  {
   "cell_type": "markdown",
   "metadata": {
    "slideshow": {
     "slide_type": "slide"
    }
   },
   "source": [
    "# Mixed language programming: `instant` and `ctypes`\n",
    "\n",
    "Simon Funke, Hans Petter Langtangen, Joakim Sundnes, Ola Skavhaug\n",
    "\n",
    "Date: **Oct 5, 2016**"
   ]
  },
  {
   "cell_type": "markdown",
   "metadata": {
    "slideshow": {
     "slide_type": "slide"
    }
   },
   "source": [
    "## Avoiding wrapper code with *ctypes* and *instant*\n",
    "Extension modules in Python have two main purposes:\n",
    "\n",
    "1. Calling existing libraries inside Python programs.\n",
    "2. Speeding up loops in Python."
   ]
  },
  {
   "cell_type": "markdown",
   "metadata": {
    "slideshow": {
     "slide_type": "fragment"
    }
   },
   "source": [
    "Manual or Swig-generated wrapper code handles both cases, but for\n",
    "simple tasks there are shortcuts:\n",
    "\n",
    "* `ctypes` allows easy access to C datatypes and libraries\n",
    "* `instant` enables inlining C and C++ function in Python programs"
   ]
  },
  {
   "cell_type": "markdown",
   "metadata": {
    "slideshow": {
     "slide_type": "slide"
    }
   },
   "source": [
    "# The `instant` module"
   ]
  },
  {
   "cell_type": "markdown",
   "metadata": {
    "slideshow": {
     "slide_type": "subslide"
    }
   },
   "source": [
    "## `Instant` allows inlining of C and C++ functions in Python codes"
   ]
  },
  {
   "cell_type": "markdown",
   "metadata": {
    "slideshow": {
     "slide_type": "-"
    }
   },
   "source": [
    "* Install with \n",
    "```bash\n",
    "pip install --user https://bitbucket.org/fenics-project/instant/get/master.zip\n",
    "```\n",
    "* The hello world example:"
   ]
  },
  {
   "cell_type": "code",
   "execution_count": 3,
   "metadata": {
    "collapsed": false
   },
   "outputs": [
    {
     "name": "stdout",
     "output_type": "stream",
     "text": [
      "sin(1.0+2.5) = -0.35078322768961984\n"
     ]
    }
   ],
   "source": [
    "from instant import inline\n",
    "source = \"\"\"\n",
    "double hw1(double r1, double r2)\n",
    "{\n",
    "return sin(r1 + r2);\n",
    "}\n",
    "\"\"\"\n",
    "hw1 = inline(source)\n",
    "\n",
    "x= 1.0\n",
    "y =2.5\n",
    "print(\"sin({0}+{1}) = {2}\".format(x,y,hw1(x,y)))"
   ]
  },
  {
   "cell_type": "markdown",
   "metadata": {
    "slideshow": {
     "slide_type": "subslide"
    }
   },
   "source": [
    "## How it works\n",
    "\n",
    "* C/C++ code is automatically wrapped and compiled at run-time\n",
    "* Resulting object files are stored, only recompiled when source   code is changed\n",
    "* Simple to use, but only works for smaller codes"
   ]
  },
  {
   "cell_type": "markdown",
   "metadata": {
    "slideshow": {
     "slide_type": "subslide"
    }
   },
   "source": [
    "## `Instant` also supports numpy arrays"
   ]
  },
  {
   "cell_type": "code",
   "execution_count": 5,
   "metadata": {
    "collapsed": false
   },
   "outputs": [
    {
     "name": "stderr",
     "output_type": "stream",
     "text": [
      "--- Instant: compiling ---\n"
     ]
    },
    {
     "name": "stdout",
     "output_type": "stream",
     "text": [
      "2.0\n"
     ]
    }
   ],
   "source": [
    "import numpy                                                                                                                                                                                   \n",
    "from instant import inline_with_numpy                                                                                                                                                          \n",
    "                                                                                                                                                                                               \n",
    "# Example 2: two array, both inout and of same size                                                                                                                                            \n",
    "# Cannot avoid specifying all dimensions for both arrays                                                                                                                                       \n",
    "c_code = \"\"\"                                                                                                                                                                                   \n",
    "double sum(int x1, int y1, double* array1, int x2, int y2, double* array2){                                                                                                                   \n",
    "  double tmp = 0.0;                                                                                                                                                                            \n",
    "  for (int i=0; i<x1; i++)                                                                                                                                                                     \n",
    "    for (int j=0; j<y1; j++){                                                                                                                                                                  \n",
    "      tmp = array1[i*y1 + j];                                                                                                                                                                  \n",
    "      array1[i*y1 + j] = array2[i*y1 + j];                                                                                                                                                     \n",
    "      array2[i*y1 + j] = tmp;                                                                                                                                                                  \n",
    "    }                                                                                                                                                                                          \n",
    "  return tmp;                                                                                                                                                                                  \n",
    "}                                                                                                                                                                                              \n",
    "\"\"\"                                                                                                                                                                                            \n",
    "                                                                                                                                                                                               \n",
    "sum_func = inline_with_numpy(c_code, arrays = [['x1', 'y1', 'array1'],                                                                                                                         \n",
    "                                               ['x2', 'y2', 'array2']],                                                                                                                        \n",
    "                             cache_dir=\"test_ex2_cache\")                                                                                                                                       \n",
    "                                                                                                                                                                                               \n",
    "a = numpy.ones(4)                                                                                                                                                                              \n",
    "a.shape = (2, 2)                                                                                                                                                                               \n",
    "b = a.copy()                                                                                                                                                                                   \n",
    "a *= 2                                                                                                                                                                                         \n",
    "print(sum_func(a, b))  "
   ]
  },
  {
   "cell_type": "markdown",
   "metadata": {
    "slideshow": {
     "slide_type": "slide"
    }
   },
   "source": [
    "# The `ctypes` module"
   ]
  },
  {
   "cell_type": "markdown",
   "metadata": {
    "slideshow": {
     "slide_type": "subslide"
    }
   },
   "source": [
    "##  `ctypes` gives access to C datatypes from  Python\n",
    "\n",
    "* C libraries can be imported and called from python\n",
    "* Work only in Python - no need for writing   wrapper code in C\n",
    "* Less elegant interface than a regular Python extension module"
   ]
  },
  {
   "cell_type": "markdown",
   "metadata": {
    "slideshow": {
     "slide_type": "subslide"
    }
   },
   "source": [
    "## Basic usage\n",
    "* Primitive C data types are interfaced:"
   ]
  },
  {
   "cell_type": "markdown",
   "metadata": {
    "collapsed": false
   },
   "source": [
    "```python\n",
    "c_int, c_bool, c_double, c_char ...\n",
    "```"
   ]
  },
  {
   "cell_type": "markdown",
   "metadata": {
    "slideshow": {
     "slide_type": "fragment"
    }
   },
   "source": [
    "* Libraries may be loaded by instantiating `ctypes.CDLL`:"
   ]
  },
  {
   "cell_type": "markdown",
   "metadata": {
    "collapsed": false
   },
   "source": [
    "```python\n",
    "clib = ctypes.CDLL('./clib.so')\n",
    "```"
   ]
  },
  {
   "cell_type": "markdown",
   "metadata": {
    "slideshow": {
     "slide_type": "subslide"
    }
   },
   "source": [
    "## Basic usage (2)"
   ]
  },
  {
   "cell_type": "markdown",
   "metadata": {},
   "source": [
    "* Arguments and return type for library functions must be converted to the correct C type:"
   ]
  },
  {
   "cell_type": "code",
   "execution_count": null,
   "metadata": {
    "collapsed": false
   },
   "outputs": [],
   "source": [
    "c_arg1 = c_double(arg1)\n",
    "c_arg2 = c_double(arg2)\n",
    "clib.function1.restype = c_double"
   ]
  },
  {
   "cell_type": "markdown",
   "metadata": {
    "slideshow": {
     "slide_type": "fragment"
    }
   },
   "source": [
    "* After the conversion, calling library functions is intuitive:"
   ]
  },
  {
   "cell_type": "code",
   "execution_count": null,
   "metadata": {
    "collapsed": false
   },
   "outputs": [],
   "source": [
    "result = clib.function1(c_arg1,c_arg2)"
   ]
  },
  {
   "cell_type": "markdown",
   "metadata": {
    "slideshow": {
     "slide_type": "subslide"
    }
   },
   "source": [
    "## Hello world with `ctypes` (1)\n",
    "\n",
    "Unmodified C code, compiled to a shared library;"
   ]
  },
  {
   "cell_type": "markdown",
   "metadata": {},
   "source": [
    "```C\n",
    "double hw1(double r1, double r2)\n",
    "{\n",
    "    double s;\n",
    "    s = sin(r1 + r2);\n",
    "    return s;\n",
    "}\n",
    "        \n",
    "void hw2(double r1, double r2)\n",
    "{\n",
    "    double s;\n",
    "    s = sin(r1 + r2);\n",
    "    printf(\"Hello, World! sin(%g+%g)=%g\\n\", r1, r2, s);\n",
    "}\n",
    "        \n",
    "/* special version of hw1 where the result is an argument: */\n",
    "void hw3(double r1, double r2, double *s)\n",
    "{\n",
    "    *s = sin(r1 + r2);\n",
    "}\n",
    "```"
   ]
  },
  {
   "cell_type": "markdown",
   "metadata": {
    "slideshow": {
     "slide_type": "subslide"
    }
   },
   "source": [
    "## Hello world with ctypes (2)\n",
    "\n",
    "C library is loaded into Python and accessed directly;"
   ]
  },
  {
   "cell_type": "markdown",
   "metadata": {
    "collapsed": false
   },
   "source": [
    "```python\n",
    "#!/usr/bin/env python\n",
    "from ctypes import *\n",
    "hw_lib = CDLL('./hw.so')  # load shared library\n",
    "\n",
    "hw_lib.hw1.restype = c_double  # specify return type\n",
    "s = hw_lib.hw1(c_double(1), c_double(2.14159))\n",
    "print(s, type(s))\n",
    "\n",
    "# automatic conversion of arguments from Python to ctypes:\n",
    "hw_lib.hw1.argtypes = [c_double, c_double]\n",
    "s = hw_lib.hw1(1, 2.14159)\n",
    "print(s, type(s))\n",
    "\n",
    "hw_lib.hw2.argtypes = [c_double, c_double]\n",
    "hw_lib.hw1.restype = None  # returns void\n",
    "hw_lib.hw2(1, 2.14159)\n",
    "\n",
    "s = c_double()\n",
    "hw_lib.hw3(c_double(1), c_double(2.14159), byref(s))\n",
    "print(s.value)\n",
    "```"
   ]
  },
  {
   "cell_type": "markdown",
   "metadata": {
    "slideshow": {
     "slide_type": "subslide"
    }
   },
   "source": [
    "## Ctypes bottom line\n",
    "\n",
    "* Works well for interfacing a few C functions\n",
    "* Less convenient for a large number of function calls\n",
    "* Can be wrapped in a Python module, but with a performance loss"
   ]
  },
  {
   "cell_type": "markdown",
   "metadata": {
    "slideshow": {
     "slide_type": "slide"
    }
   },
   "source": [
    "## Remember: The best tool depends on the task\n",
    "<center>![Mixed Programming Python tools](python_integration_tools.svg \"Python\")</center>"
   ]
  }
 ],
 "metadata": {
  "celltoolbar": "Slideshow",
  "kernelspec": {
   "display_name": "Python 3",
   "language": "python",
   "name": "python3"
  },
  "language_info": {
   "codemirror_mode": {
    "name": "ipython",
    "version": 3
   },
   "file_extension": ".py",
   "mimetype": "text/x-python",
   "name": "python",
   "nbconvert_exporter": "python",
   "pygments_lexer": "ipython3",
   "version": "3.5.2"
  },
  "livereveal": {
   "scroll": true,
   "start_slideshow_at": "selected",
   "theme": "serif"
  }
 },
 "nbformat": 4,
 "nbformat_minor": 0
}
